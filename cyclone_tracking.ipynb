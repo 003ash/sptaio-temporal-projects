{
  "nbformat": 4,
  "nbformat_minor": 0,
  "metadata": {
    "colab": {
      "provenance": [],
      "gpuType": "T4"
    },
    "kernelspec": {
      "name": "python3",
      "display_name": "Python 3"
    },
    "language_info": {
      "name": "python"
    }
  },
  "cells": [
    {
      "cell_type": "markdown",
      "source": [
        "# Introduction\n",
        "\n",
        "This notebook demonstrates an exploratory data analysis of cyclone trajectories using MovingPandas, a library for analyzing movement data. We'll be working with cyclone data from the North Indian Ocean basin and other data sources which can be switched easily, sourced from the [Variational RNN Cyclones GitHub repository](https://github.com/DARE-ML/variational-rnn-cyclones/tree/main)."
      ],
      "metadata": {
        "id": "J2LdNAesIfoL"
      }
    },
    {
      "cell_type": "code",
      "execution_count": null,
      "metadata": {
        "id": "7shfFUCjnJu7"
      },
      "outputs": [],
      "source": [
        "!pip install movingpandas\n",
        "!pip install hvplot\n",
        "!pip install cartopy\n",
        "!pip install geoviews\n",
        "!pip install contextily\n",
        "\n",
        "import pandas as pd\n",
        "import geopandas as gpd\n",
        "import movingpandas as mpd\n",
        "import shapely as shp\n",
        "import hvplot.pandas\n",
        "\n",
        "from geopandas import GeoDataFrame, read_file\n",
        "from shapely.geometry import Point, LineString, Polygon\n",
        "from datetime import datetime, timedelta\n",
        "from holoviews import opts\n",
        "\n",
        "\n",
        "import matplotlib.pyplot as plt\n",
        "from movingpandas import TrajectoryCollection\n",
        "import contextily as ctx\n",
        "import numpy as np\n",
        "\n",
        "\n",
        "import warnings\n",
        "\n",
        "warnings.filterwarnings(\"ignore\")\n",
        "\n",
        "opts.defaults(\n",
        "    opts.Overlay(active_tools=[\"wheel_zoom\"], frame_width=500, frame_height=400)\n",
        ")\n",
        "\n",
        "mpd.show_versions()"
      ]
    },
    {
      "cell_type": "markdown",
      "source": [
        "#Data Preparation and Preprocessing\n",
        "\n",
        "In this section, we load and preprocess the cyclone data:\n",
        "\n",
        "*   Load the raw data from a CSV file\n",
        "*   Convert timestamps to datetime objects.\n",
        "*   Sort the data by cyclone ID and timestamp.\n",
        "*   Implement a segmentation algorithm to identify distinct cyclone tracks based on time gaps.\n",
        "\n",
        "\n",
        "This preprocessing step is crucial for accurate trajectory analysis, as it helps distinguish between separate cyclone events and continuous tracks."
      ],
      "metadata": {
        "id": "PxlhUZWlbpP6"
      }
    },
    {
      "cell_type": "code",
      "source": [
        "# Load the data from a CSV file into a pandas DataFrame, and assign column names for clarity\n",
        "df = pd.read_csv('northindianocean.csv', header=None,\n",
        "                 names=['cyclone_id', 'timestamp', 'latitude', 'longitude', 'wind_speed'])\n",
        "\n",
        "# Convert the 'timestamp' column from a string to a datetime object for easier time-based operations\n",
        "df['timestamp'] = pd.to_datetime(df['timestamp'], format='%Y%m%d%H')\n",
        "\n",
        "# Sort the DataFrame by 'cyclone_id' and 'timestamp' to ensure sequential order within each cyclone\n",
        "df.sort_values(by=['cyclone_id', 'timestamp'], inplace=True)\n",
        "df['new_id'] = None\n",
        "\n",
        "# Define a time gap threshold (e.g., 24 hours) to determine when to start a new segment\n",
        "time_gap_threshold = pd.Timedelta(hours=24)\n",
        "\n",
        "# Initialize the first segment ID\n",
        "current_new_id = 1\n",
        "df.iloc[0, df.columns.get_loc('new_id')] = current_new_id\n",
        "\n",
        "# Iterate through the DataFrame row by row, starting from the second row\n",
        "for i in range(1, len(df)):\n",
        "    if df.iloc[i]['cyclone_id'] == df.iloc[i-1]['cyclone_id']:\n",
        "        # If the current row belongs to the same cyclone as the previous row:\n",
        "        # Check if the time gap between consecutive records exceeds the threshold\n",
        "        if df.iloc[i]['timestamp'] - df.iloc[i-1]['timestamp'] > time_gap_threshold:\n",
        "            current_new_id += 1  # Start a new segment if time gap is too large\n",
        "    else:\n",
        "        # If the current row belongs to a different cyclone, assign a new segment ID\n",
        "        current_new_id += 1\n",
        "\n",
        "    # Assign the calculated segment ID to the 'new_id' column for the current row\n",
        "    df.iloc[i, df.columns.get_loc('new_id')] = current_new_id\n",
        "\n",
        "print(df.head(50))\n",
        "df.to_csv('modified_cyclone_data.csv', index=False)\n"
      ],
      "metadata": {
        "id": "EBWWFEFFDpJN"
      },
      "execution_count": null,
      "outputs": []
    },
    {
      "cell_type": "markdown",
      "source": [
        "# Visualizing Cyclone Trajectories\n",
        "\n",
        "Here, we extract cyclone trajectories and plot them on a map using MovingPandas and Matplotlib:\n",
        "\n",
        "\n",
        "1.   Create a GeoDataFrame from the preprocessed data.\n",
        "2.   Filter for a subset of cyclone IDs (1-10) for clearer visualization.\n",
        "3.   Generate a TrajectoryCollection using MovingPandas.\n",
        "4.   Plot each trajectory with unique colors, marking start and end points.\n",
        "5.   Add a basemap for geographical context.\n",
        "\n",
        "This visualization allows us to observe the paths of multiple cyclones simultaneously, providing insights into their movement patterns and geographical distribution."
      ],
      "metadata": {
        "id": "tXB_JDb_dml4"
      }
    },
    {
      "cell_type": "code",
      "source": [
        "# Load the modified data\n",
        "df = pd.read_csv('modified_cyclone_data.csv')\n",
        "\n",
        "# Convert timestamp to datetime (no format needed)\n",
        "df['timestamp'] = pd.to_datetime(df['timestamp'])\n",
        "\n",
        "# Clean the data by removing rows with non-numeric latitude or longitude\n",
        "df = df[pd.to_numeric(df['latitude'], errors='coerce').notnull()]\n",
        "df = df[pd.to_numeric(df['longitude'], errors='coerce').notnull()]\n",
        "\n",
        "# Create GeoDataFrame\n",
        "gdf = gpd.GeoDataFrame(df, geometry=gpd.points_from_xy(df.longitude, df.latitude), crs=\"EPSG:4326\")\n",
        "\n",
        "# Filter for cyclone new IDs 1 through 10\n",
        "gdf_filtered = gdf[gdf['new_id'].isin(range(1, 11))]\n",
        "\n",
        "# Create TrajectoryCollection\n",
        "trajectories = TrajectoryCollection(gdf_filtered, 'new_id', t='timestamp')\n",
        "\n",
        "# Define a list of colors to cycle through\n",
        "colors = plt.cm.get_cmap('tab10', len(trajectories.trajectories))\n",
        "\n",
        "# Plot trajectories\n",
        "fig, ax = plt.subplots(figsize=(15, 10))\n",
        "\n",
        "for i, traj in enumerate(trajectories.trajectories):\n",
        "    traj.plot(ax=ax, linewidth=2, alpha=0.7, color=colors(i))\n",
        "\n",
        "    # Plot start and end points with unique colors\n",
        "    start_point = traj.get_start_location()\n",
        "    end_point = traj.get_end_location()\n",
        "    ax.plot(start_point.x, start_point.y, 'o', markersize=8, color=colors(i), label=f'Start {traj.id}')\n",
        "    ax.plot(end_point.x, end_point.y, 'x', markersize=8, color=colors(i), label=f'End {traj.id}')\n",
        "\n",
        "# Add basemap\n",
        "ctx.add_basemap(ax, crs=gdf.crs.to_string(), source=ctx.providers.CartoDB.Positron)\n",
        "\n",
        "# Customize the plot\n",
        "ax.set_title('Cyclone Trajectories (New IDs 1-10)', fontsize=16)\n",
        "ax.set_xlabel('Longitude')\n",
        "ax.set_ylabel('Latitude')\n",
        "\n",
        "# Add legend\n",
        "ax.legend()\n",
        "\n",
        "plt.tight_layout()\n",
        "plt.show()\n"
      ],
      "metadata": {
        "id": "QvoNjyQCHdn9"
      },
      "execution_count": null,
      "outputs": []
    },
    {
      "cell_type": "markdown",
      "source": [
        "# Wind Speed Heatmap\n",
        "\n",
        "In this section, we create a heatmap to visualize wind speed variations along cyclone trajectories:\n",
        "\n",
        "\n",
        "1.   Randomly select 10 unique cyclone IDs for analysis.\n",
        "2.   Plot trajectories with color representing wind speed.\n",
        "3.   Add a basemap and a color bar for wind speed interpretation.\n",
        "\n",
        "This heatmap helps identify areas of high wind speeds along cyclone paths, which is crucial for understanding cyclone intensity and potential impact zones."
      ],
      "metadata": {
        "id": "12IEoe_LeZjo"
      }
    },
    {
      "cell_type": "code",
      "source": [
        "# Randomly select 10 unique cyclone IDs from the dataset\n",
        "random_ids = np.random.choice(gdf['new_id'].unique(), 10, replace=False)\n",
        "\n",
        "# Filter for these random cyclone IDs\n",
        "gdf_filtered = gdf[gdf['new_id'].isin(random_ids)]\n",
        "\n",
        "# Create TrajectoryCollection\n",
        "trajectories = TrajectoryCollection(gdf_filtered, 'new_id', t='timestamp')\n",
        "\n",
        "# Plot trajectories with wind speed variation\n",
        "fig, ax = plt.subplots(figsize=(15, 10))\n",
        "\n",
        "for traj in trajectories.trajectories:\n",
        "    # Plot trajectory with color representing wind speed without legend for each plot\n",
        "    traj.df.plot(ax=ax, column='wind_speed', cmap='coolwarm', linewidth=2)\n",
        "\n",
        "# Add basemap\n",
        "ctx.add_basemap(ax, crs=gdf.crs.to_string(), source=ctx.providers.CartoDB.Positron)\n",
        "\n",
        "# Customize the plot\n",
        "ax.set_title('Cyclone Trajectories with Wind Speed Variation', fontsize=16)\n",
        "ax.set_xlabel('Longitude')\n",
        "ax.set_ylabel('Latitude')\n",
        "ax.autoscale()\n",
        "\n",
        "# Add a single colorbar for wind speed with reduced size\n",
        "sm = plt.cm.ScalarMappable(cmap='coolwarm', norm=plt.Normalize(vmin=gdf_filtered['wind_speed'].min(), vmax=gdf_filtered['wind_speed'].max()))\n",
        "sm._A = []  # Dummy array for the scalar mappable object\n",
        "cbar = plt.colorbar(sm, ax=ax, shrink=0.5)  # Adjust shrink to reduce size\n",
        "cbar.set_label('Wind Speed (knots)')\n",
        "\n",
        "plt.tight_layout()\n",
        "plt.show()\n"
      ],
      "metadata": {
        "id": "02rwk0jnKxIM"
      },
      "execution_count": null,
      "outputs": []
    },
    {
      "cell_type": "markdown",
      "source": [
        "# Cyclone Frequency Analysis\n",
        "\n",
        "Here, we analyze the frequency of cyclones over the years:\n",
        "\n",
        "\n",
        "1.   Extract the year from each timestamp.\n",
        "2.   Count unique cyclone occurrences per year\n",
        "3.   Create a bar chart to visualize the annual cyclone frequency\n",
        "\n",
        "This analysis helps identify trends in cyclone occurrence over time, which can be valuable for climate change studies and disaster preparedness.\n",
        "\n"
      ],
      "metadata": {
        "id": "EbjfmNOAJ9Mk"
      }
    },
    {
      "cell_type": "code",
      "source": [
        "import pandas as pd\n",
        "import matplotlib.pyplot as plt\n",
        "\n",
        "# Load the modified data\n",
        "df = pd.read_csv('modified_cyclone_data.csv')\n",
        "\n",
        "# Convert timestamp to datetime\n",
        "df['timestamp'] = pd.to_datetime(df['timestamp'])\n",
        "\n",
        "# Extract year from timestamp\n",
        "df['year'] = df['timestamp'].dt.year\n",
        "\n",
        "# Count unique cyclone occurrences per year\n",
        "cyclone_counts = df.groupby('year')['new_id'].nunique()\n",
        "\n",
        "# Plot bar chart\n",
        "plt.figure(figsize=(10, 6))\n",
        "cyclone_counts.plot(kind='bar', color='skyblue')\n",
        "plt.title('Number of Cyclones per Year')\n",
        "plt.xlabel('Year')\n",
        "plt.ylabel('Number of Cyclones')\n",
        "plt.xticks(rotation=45)\n",
        "plt.tight_layout()\n",
        "plt.show()\n"
      ],
      "metadata": {
        "id": "9dgDaPAUj_p5"
      },
      "execution_count": null,
      "outputs": []
    },
    {
      "cell_type": "markdown",
      "source": [
        "# Detailed Analysis of a Specific Cyclone\n",
        "\n",
        "In this section, we focus on Cyclone ID 35:\n",
        "\n",
        "\n",
        "1.   Filter the data for the specific cyclone.\n",
        "2.   Visualize its movement using an interactive plot.\n",
        "3.   Analyze the cyclone's speed over time.\n",
        "\n",
        "This detailed examination of a single cyclone provides insights into its behavior, including changes in speed and direction throughout its lifecycle."
      ],
      "metadata": {
        "id": "gWBGZ3Wp4Rjo"
      }
    },
    {
      "cell_type": "code",
      "source": [
        "tc = mpd.TrajectoryCollection(\n",
        "    gdf, \"cyclone_id\", t=\"timestamp\", min_length=10\n",
        ")\n",
        "\n",
        "filtered = tc.filter(\"cyclone_id\", 35)\n",
        "my_traj = filtered.trajectories[0].copy()\n",
        "print(my_traj.df.shape)\n",
        "\n",
        "my_traj.hvplot(title=f\"Movement of {my_traj.id}\", line_width=2, tiles=\"CartoLight\")\n"
      ],
      "metadata": {
        "id": "m8NJNhnwnfSo"
      },
      "execution_count": null,
      "outputs": []
    },
    {
      "cell_type": "code",
      "source": [
        "Strips_by_year = mpd.TemporalSplitter(filtered).split(mode=\"year\")\n",
        "trips_by_year.to_traj_gdf()\n",
        "one_year = trips_by_year.get_trajectory(\"35_1985-04-30 00:00:00\")\n",
        "one_year.add_speed(units=(\"km\", \"h\"), overwrite=True )\n",
        "one_year.hvplot(\n",
        "    title=f\"Movement speed of {one_year.id}\",\n",
        "    line_width=5.0,\n",
        "    c=\"speed\",\n",
        "    cmap=\"RdYlGn\",\n",
        "    colorbar=True,\n",
        "    clim=(0, 20),\n",
        "    tiles=\"CartoLight\",\n",
        ")"
      ],
      "metadata": {
        "id": "Lmn8OSxHqNyk"
      },
      "execution_count": null,
      "outputs": []
    },
    {
      "cell_type": "markdown",
      "source": [
        "# VaRNN - Cyclone Track Prediction\n",
        "\n",
        "The notebook concludes with an introduction to the Variational Recurrent Neural Network (VaRNN) model for cyclone track prediction:\n",
        "\n",
        "\n",
        "1.   Set up the required environment and dependencies.\n",
        "2.   Run the training script for the North Indian Ocean dataset.\n",
        "3.   Explain the different model types (RNN, LSTM, Bayes-RNN, Bayes-LSTM) and their applications in track and intensity prediction.\n",
        "\n",
        "\n",
        "This section demonstrates the application of machine learning techniques to cyclone prediction, which has significant implications for early warning systems and disaster management."
      ],
      "metadata": {
        "id": "d1jaqkuAn-7z"
      }
    },
    {
      "cell_type": "code",
      "source": [
        "!git clone https://github.com/DARE-ML/variational-rnn-cyclones.git\n",
        "%cd variational-rnn-cyclones\n",
        "!pip install -r requirements.txt\n",
        "!apt-get install r-base\n",
        "!R -e \"install.packages('scoringRules', repos='http://cran.rstudio.com/')\"\n",
        "# !wget https://github.com/DARE-ML/variational-rnn-cyclones/releases/download/v0.1/data.zip\n",
        "# !unzip data.zip\n",
        "!pip install torchmetrics\n",
        "!pip install tensorboardX"
      ],
      "metadata": {
        "id": "Bt0ovsB7BVnM"
      },
      "execution_count": null,
      "outputs": []
    },
    {
      "cell_type": "markdown",
      "source": [
        "**The following script runs the vanilla model of the 4 different models. These are the 4 models that we can test:**\n",
        "\n",
        "We divide the experiments into two major tasks with two different\n",
        "models, i.e cyclone track prediction and intensity prediction. Hence, a\n",
        "model is used for track prediction and a separate one is used for wind\n",
        "intensity. We compare the performance of 4 different types of models\n",
        "(RNN, LSTM, Bayes-RNN, Bayes-LSTM) for the track and intensity\n",
        "\n",
        "In order to maintain uniformity amongst the models, and for a fair\n",
        "comparison, we take the most basic form of each model — with just\n",
        "a single hidden layer and a minimal number of hidden neurons to\n",
        "represent the problem, obtained from trial experiments.\n",
        "The training data consists of time series from each cyclone taken\n",
        "with a window of size 4 and the corresponding target to be predicted.\n",
        "Since each data point is recorded at a 6-hour interval, a window\n",
        "size of 4 represents a 24-hour timeframe. In the case of the track\n",
        "prediction task, each element of the sequence consists of a pair of\n",
        "values (the corresponding latitude and longitude); whereas, for the\n",
        "intensity prediction task, each element in the sequence consists of only\n",
        "the intensity value.\n",
        "\n",
        "\n",
        "To plot the predicted values on the test dataset, use the following code snippet in the function <i>get_track_plot_as_image()</i> do it:\n",
        "\n",
        "```plt.savefig(os.path.join(run_path, f'track_{track_id}_epoch_{epoch}.png'))```"
      ],
      "metadata": {
        "id": "ROm1yb5c6yk9"
      }
    },
    {
      "cell_type": "code",
      "source": [
        "!python train.py --ds-name north_indian_ocean --root-dir . --features location"
      ],
      "metadata": {
        "colab": {
          "base_uri": "https://localhost:8080/"
        },
        "id": "dVetIduszQN1",
        "outputId": "5e0bef10-c328-464e-e4a9-20a539cd2f8f"
      },
      "execution_count": null,
      "outputs": [
        {
          "output_type": "stream",
          "name": "stdout",
          "text": [
            "Train Loss:  0.0027 RMSE: 0.0141 Test RMSE: 0.0254 + 0.0035: 100% 100/100 [26:34<00:00, 15.94s/it]\n",
            "Mean Energy Score: 0.0085\n",
            "Mean Energy Score: 0.0070\n"
          ]
        }
      ]
    },
    {
      "cell_type": "markdown",
      "source": [
        "This is how we can add additional parameters to the training script"
      ],
      "metadata": {
        "id": "-xgD1_7PGbdC"
      }
    },
    {
      "cell_type": "code",
      "source": [
        "# !python train.py --ds-name north_indian_ocean --lr 0.01 --epochs 100 --batch-size 32 --samples 10 --hidden 64 --root-dir . --features location"
      ],
      "metadata": {
        "id": "M-U7dSxsycIU"
      },
      "execution_count": null,
      "outputs": []
    },
    {
      "cell_type": "markdown",
      "source": [
        "#Results Analysis\n",
        "\n",
        "Finally, we analyze the results of our model training:\n",
        "\n",
        "\n",
        "1.   Collect results from multiple training runs.\n",
        "2.   Compile and display summary statistics for both intensity and location predictions.\n",
        "\n",
        "This analysis helps in comparing the performance of different models and understanding their effectiveness in predicting cyclone behavior.\n"
      ],
      "metadata": {
        "id": "TP-W10iqKrLo"
      }
    },
    {
      "cell_type": "code",
      "source": [
        "import os\n",
        "import pandas as pd\n",
        "\n",
        "runs = os.listdir('/content/variational-rnn-cyclones/runs')\n",
        "\n",
        "results = []\n",
        "\n",
        "for i, run in enumerate(runs):\n",
        "    result_json = os.path.join('/content/variational-rnn-cyclones/runs', run, 'results.json')\n",
        "    try:\n",
        "        results.append(pd.read_json(result_json, orient='records'))\n",
        "    except:\n",
        "        pass\n",
        "\n",
        "results_df = pd.concat(results).sort_values(by=['ds_name', 'model']).reset_index(drop=True)\n",
        "\n",
        "results_df.loc[:, 'train_rmse_mean']= results_df.loc[:, 'train_rmse'].apply(lambda x: x['mean'])\n",
        "results_df.loc[:, 'train_rmse_std']= results_df.loc[:, 'train_rmse'].apply(lambda x: x['std'])\n",
        "\n",
        "results_df.loc[:, 'test_rmse_mean']= results_df.loc[:, 'test_rmse'].apply(lambda x: x['mean'])\n",
        "results_df.loc[:, 'test_rmse_std']= results_df.loc[:, 'test_rmse'].apply(lambda x: x['std'])\n",
        "\n",
        "results_summary = results_df.loc[:, ['run_name', 'ds_name', 'model', 'train_rmse_mean', 'train_rmse_std', 'test_rmse_mean', 'test_rmse_std', 'train_es', 'test_es']]\n",
        "\n",
        "results_summary_intensity = results_summary.loc[results_summary.run_name.str.contains('intensity')].drop(columns=['run_name'])\n",
        "\n",
        "results_summary_intensity\n",
        "\n",
        "results_summary_location = results_summary.loc[results_summary.run_name.str.contains('location')].drop(columns=['run_name'])\n",
        "\n",
        "results_summary_location"
      ],
      "metadata": {
        "id": "RV4nqo8k5on1",
        "colab": {
          "base_uri": "https://localhost:8080/",
          "height": 89
        },
        "outputId": "2a40f465-7fab-45cf-9739-f8c3e12b6e0b"
      },
      "execution_count": null,
      "outputs": [
        {
          "output_type": "execute_result",
          "data": {
            "text/plain": [
              "              ds_name     model  train_rmse_mean  train_rmse_std  \\\n",
              "0  north_indian_ocean  BayesRNN         0.025252        0.002679   \n",
              "\n",
              "   test_rmse_mean  test_rmse_std  train_es   test_es  \n",
              "0        0.025362        0.00351  0.008511  0.007034  "
            ],
            "text/html": [
              "\n",
              "  <div id=\"df-9cbc9382-c24d-4585-a1a8-3a4792d0a8f2\" class=\"colab-df-container\">\n",
              "    <div>\n",
              "<style scoped>\n",
              "    .dataframe tbody tr th:only-of-type {\n",
              "        vertical-align: middle;\n",
              "    }\n",
              "\n",
              "    .dataframe tbody tr th {\n",
              "        vertical-align: top;\n",
              "    }\n",
              "\n",
              "    .dataframe thead th {\n",
              "        text-align: right;\n",
              "    }\n",
              "</style>\n",
              "<table border=\"1\" class=\"dataframe\">\n",
              "  <thead>\n",
              "    <tr style=\"text-align: right;\">\n",
              "      <th></th>\n",
              "      <th>ds_name</th>\n",
              "      <th>model</th>\n",
              "      <th>train_rmse_mean</th>\n",
              "      <th>train_rmse_std</th>\n",
              "      <th>test_rmse_mean</th>\n",
              "      <th>test_rmse_std</th>\n",
              "      <th>train_es</th>\n",
              "      <th>test_es</th>\n",
              "    </tr>\n",
              "  </thead>\n",
              "  <tbody>\n",
              "    <tr>\n",
              "      <th>0</th>\n",
              "      <td>north_indian_ocean</td>\n",
              "      <td>BayesRNN</td>\n",
              "      <td>0.025252</td>\n",
              "      <td>0.002679</td>\n",
              "      <td>0.025362</td>\n",
              "      <td>0.00351</td>\n",
              "      <td>0.008511</td>\n",
              "      <td>0.007034</td>\n",
              "    </tr>\n",
              "  </tbody>\n",
              "</table>\n",
              "</div>\n",
              "    <div class=\"colab-df-buttons\">\n",
              "\n",
              "  <div class=\"colab-df-container\">\n",
              "    <button class=\"colab-df-convert\" onclick=\"convertToInteractive('df-9cbc9382-c24d-4585-a1a8-3a4792d0a8f2')\"\n",
              "            title=\"Convert this dataframe to an interactive table.\"\n",
              "            style=\"display:none;\">\n",
              "\n",
              "  <svg xmlns=\"http://www.w3.org/2000/svg\" height=\"24px\" viewBox=\"0 -960 960 960\">\n",
              "    <path d=\"M120-120v-720h720v720H120Zm60-500h600v-160H180v160Zm220 220h160v-160H400v160Zm0 220h160v-160H400v160ZM180-400h160v-160H180v160Zm440 0h160v-160H620v160ZM180-180h160v-160H180v160Zm440 0h160v-160H620v160Z\"/>\n",
              "  </svg>\n",
              "    </button>\n",
              "\n",
              "  <style>\n",
              "    .colab-df-container {\n",
              "      display:flex;\n",
              "      gap: 12px;\n",
              "    }\n",
              "\n",
              "    .colab-df-convert {\n",
              "      background-color: #E8F0FE;\n",
              "      border: none;\n",
              "      border-radius: 50%;\n",
              "      cursor: pointer;\n",
              "      display: none;\n",
              "      fill: #1967D2;\n",
              "      height: 32px;\n",
              "      padding: 0 0 0 0;\n",
              "      width: 32px;\n",
              "    }\n",
              "\n",
              "    .colab-df-convert:hover {\n",
              "      background-color: #E2EBFA;\n",
              "      box-shadow: 0px 1px 2px rgba(60, 64, 67, 0.3), 0px 1px 3px 1px rgba(60, 64, 67, 0.15);\n",
              "      fill: #174EA6;\n",
              "    }\n",
              "\n",
              "    .colab-df-buttons div {\n",
              "      margin-bottom: 4px;\n",
              "    }\n",
              "\n",
              "    [theme=dark] .colab-df-convert {\n",
              "      background-color: #3B4455;\n",
              "      fill: #D2E3FC;\n",
              "    }\n",
              "\n",
              "    [theme=dark] .colab-df-convert:hover {\n",
              "      background-color: #434B5C;\n",
              "      box-shadow: 0px 1px 3px 1px rgba(0, 0, 0, 0.15);\n",
              "      filter: drop-shadow(0px 1px 2px rgba(0, 0, 0, 0.3));\n",
              "      fill: #FFFFFF;\n",
              "    }\n",
              "  </style>\n",
              "\n",
              "    <script>\n",
              "      const buttonEl =\n",
              "        document.querySelector('#df-9cbc9382-c24d-4585-a1a8-3a4792d0a8f2 button.colab-df-convert');\n",
              "      buttonEl.style.display =\n",
              "        google.colab.kernel.accessAllowed ? 'block' : 'none';\n",
              "\n",
              "      async function convertToInteractive(key) {\n",
              "        const element = document.querySelector('#df-9cbc9382-c24d-4585-a1a8-3a4792d0a8f2');\n",
              "        const dataTable =\n",
              "          await google.colab.kernel.invokeFunction('convertToInteractive',\n",
              "                                                    [key], {});\n",
              "        if (!dataTable) return;\n",
              "\n",
              "        const docLinkHtml = 'Like what you see? Visit the ' +\n",
              "          '<a target=\"_blank\" href=https://colab.research.google.com/notebooks/data_table.ipynb>data table notebook</a>'\n",
              "          + ' to learn more about interactive tables.';\n",
              "        element.innerHTML = '';\n",
              "        dataTable['output_type'] = 'display_data';\n",
              "        await google.colab.output.renderOutput(dataTable, element);\n",
              "        const docLink = document.createElement('div');\n",
              "        docLink.innerHTML = docLinkHtml;\n",
              "        element.appendChild(docLink);\n",
              "      }\n",
              "    </script>\n",
              "  </div>\n",
              "\n",
              "\n",
              "  <div id=\"id_769fb63c-d2d0-48e0-a4e8-f51843fef5da\">\n",
              "    <style>\n",
              "      .colab-df-generate {\n",
              "        background-color: #E8F0FE;\n",
              "        border: none;\n",
              "        border-radius: 50%;\n",
              "        cursor: pointer;\n",
              "        display: none;\n",
              "        fill: #1967D2;\n",
              "        height: 32px;\n",
              "        padding: 0 0 0 0;\n",
              "        width: 32px;\n",
              "      }\n",
              "\n",
              "      .colab-df-generate:hover {\n",
              "        background-color: #E2EBFA;\n",
              "        box-shadow: 0px 1px 2px rgba(60, 64, 67, 0.3), 0px 1px 3px 1px rgba(60, 64, 67, 0.15);\n",
              "        fill: #174EA6;\n",
              "      }\n",
              "\n",
              "      [theme=dark] .colab-df-generate {\n",
              "        background-color: #3B4455;\n",
              "        fill: #D2E3FC;\n",
              "      }\n",
              "\n",
              "      [theme=dark] .colab-df-generate:hover {\n",
              "        background-color: #434B5C;\n",
              "        box-shadow: 0px 1px 3px 1px rgba(0, 0, 0, 0.15);\n",
              "        filter: drop-shadow(0px 1px 2px rgba(0, 0, 0, 0.3));\n",
              "        fill: #FFFFFF;\n",
              "      }\n",
              "    </style>\n",
              "    <button class=\"colab-df-generate\" onclick=\"generateWithVariable('results_summary_location')\"\n",
              "            title=\"Generate code using this dataframe.\"\n",
              "            style=\"display:none;\">\n",
              "\n",
              "  <svg xmlns=\"http://www.w3.org/2000/svg\" height=\"24px\"viewBox=\"0 0 24 24\"\n",
              "       width=\"24px\">\n",
              "    <path d=\"M7,19H8.4L18.45,9,17,7.55,7,17.6ZM5,21V16.75L18.45,3.32a2,2,0,0,1,2.83,0l1.4,1.43a1.91,1.91,0,0,1,.58,1.4,1.91,1.91,0,0,1-.58,1.4L9.25,21ZM18.45,9,17,7.55Zm-12,3A5.31,5.31,0,0,0,4.9,8.1,5.31,5.31,0,0,0,1,6.5,5.31,5.31,0,0,0,4.9,4.9,5.31,5.31,0,0,0,6.5,1,5.31,5.31,0,0,0,8.1,4.9,5.31,5.31,0,0,0,12,6.5,5.46,5.46,0,0,0,6.5,12Z\"/>\n",
              "  </svg>\n",
              "    </button>\n",
              "    <script>\n",
              "      (() => {\n",
              "      const buttonEl =\n",
              "        document.querySelector('#id_769fb63c-d2d0-48e0-a4e8-f51843fef5da button.colab-df-generate');\n",
              "      buttonEl.style.display =\n",
              "        google.colab.kernel.accessAllowed ? 'block' : 'none';\n",
              "\n",
              "      buttonEl.onclick = () => {\n",
              "        google.colab.notebook.generateWithVariable('results_summary_location');\n",
              "      }\n",
              "      })();\n",
              "    </script>\n",
              "  </div>\n",
              "\n",
              "    </div>\n",
              "  </div>\n"
            ],
            "application/vnd.google.colaboratory.intrinsic+json": {
              "type": "dataframe",
              "variable_name": "results_summary_location",
              "summary": "{\n  \"name\": \"results_summary_location\",\n  \"rows\": 1,\n  \"fields\": [\n    {\n      \"column\": \"ds_name\",\n      \"properties\": {\n        \"dtype\": \"string\",\n        \"num_unique_values\": 1,\n        \"samples\": [\n          \"north_indian_ocean\"\n        ],\n        \"semantic_type\": \"\",\n        \"description\": \"\"\n      }\n    },\n    {\n      \"column\": \"model\",\n      \"properties\": {\n        \"dtype\": \"string\",\n        \"num_unique_values\": 1,\n        \"samples\": [\n          \"BayesRNN\"\n        ],\n        \"semantic_type\": \"\",\n        \"description\": \"\"\n      }\n    },\n    {\n      \"column\": \"train_rmse_mean\",\n      \"properties\": {\n        \"dtype\": \"number\",\n        \"std\": null,\n        \"min\": 0.025251805782318,\n        \"max\": 0.025251805782318,\n        \"num_unique_values\": 1,\n        \"samples\": [\n          0.025251805782318\n        ],\n        \"semantic_type\": \"\",\n        \"description\": \"\"\n      }\n    },\n    {\n      \"column\": \"train_rmse_std\",\n      \"properties\": {\n        \"dtype\": \"number\",\n        \"std\": null,\n        \"min\": 0.002678667195141,\n        \"max\": 0.002678667195141,\n        \"num_unique_values\": 1,\n        \"samples\": [\n          0.002678667195141\n        ],\n        \"semantic_type\": \"\",\n        \"description\": \"\"\n      }\n    },\n    {\n      \"column\": \"test_rmse_mean\",\n      \"properties\": {\n        \"dtype\": \"number\",\n        \"std\": null,\n        \"min\": 0.025362433865666,\n        \"max\": 0.025362433865666,\n        \"num_unique_values\": 1,\n        \"samples\": [\n          0.025362433865666\n        ],\n        \"semantic_type\": \"\",\n        \"description\": \"\"\n      }\n    },\n    {\n      \"column\": \"test_rmse_std\",\n      \"properties\": {\n        \"dtype\": \"number\",\n        \"std\": null,\n        \"min\": 0.003509593661874,\n        \"max\": 0.003509593661874,\n        \"num_unique_values\": 1,\n        \"samples\": [\n          0.003509593661874\n        ],\n        \"semantic_type\": \"\",\n        \"description\": \"\"\n      }\n    },\n    {\n      \"column\": \"train_es\",\n      \"properties\": {\n        \"dtype\": \"number\",\n        \"std\": null,\n        \"min\": 0.008510802984184001,\n        \"max\": 0.008510802984184001,\n        \"num_unique_values\": 1,\n        \"samples\": [\n          0.008510802984184001\n        ],\n        \"semantic_type\": \"\",\n        \"description\": \"\"\n      }\n    },\n    {\n      \"column\": \"test_es\",\n      \"properties\": {\n        \"dtype\": \"number\",\n        \"std\": null,\n        \"min\": 0.0070339803969280005,\n        \"max\": 0.0070339803969280005,\n        \"num_unique_values\": 1,\n        \"samples\": [\n          0.0070339803969280005\n        ],\n        \"semantic_type\": \"\",\n        \"description\": \"\"\n      }\n    }\n  ]\n}"
            }
          },
          "metadata": {},
          "execution_count": 55
        }
      ]
    },
    {
      "cell_type": "markdown",
      "source": [
        "#Visualizing results:\n",
        "\n",
        "These are the results of Cyclone 82 after training BayesRNN\n",
        "\n",
        "\n",
        "\n"
      ],
      "metadata": {
        "id": "JcxA4E9-IInp"
      }
    },
    {
      "cell_type": "markdown",
      "source": [
        "![3bbf119d-73a6-42fe-9ad5-340a984d0df9.png](data:image/png;base64,iVBORw0KGgoAAAANSUhEUgAAAyAAAAMgCAYAAADbcAZoAAAAOXRFWHRTb2Z0d2FyZQBNYXRwbG90bGliIHZlcnNpb24zLjguMCwgaHR0cHM6Ly9tYXRwbG90bGliLm9yZy81sbWrAAAACXBIWXMAAA9hAAAPYQGoP6dpAAC1mUlEQVR4nOzdeXxU5dn/8e+ZISSEZAYCQhJAjKBijKKoEVDqSo0LYK1aF0TUuuCvbu3TujytSPvYSvtY8bEVlaqIqIgrxCVWpbgUMCqixkAVDMgygCQkE5ZAmDm/Pw4zZJJMMsnMnJkkn/frlVeSM/c5c02M4Vxz39d9GaZpmgIAAAAAGzgSHQAAAACAroMEBAAAAIBtSEAAAAAA2IYEBAAAAIBtSEAAAAAA2IYEBAAAAIBtSEAAAAAA2IYEBAAAAIBtSEAAAAAA2IYEBAAAAIBtSEAAAAAA2IYEBAAAAIBtSEAAAAAA2IYEBAAAAIBtSEAAAAAA2IYEBAAAAIBtSEAAAAAA2IYEBAAAAIBtSEAAAAAA2IYEBAAAAIBtSEAAAAAA2IYEBAAAAIBtSEAAAAAA2IYEBAAAAIBtSEAAAAAA2IYEBAAAAIBtSEAAAAAA2IYEBAAAAIBtSEAAAAAA2IYEBAAAAIBtSEAAAAAA2IYEBAAAAIBtSEAAAAAA2IYEBAAAAIBtSEAAAAAA2IYEBAAAAIBtSEAAAAAA2IYEBAAAAIBtSEAAAAAA2IYEBAAAAIBtSEAAAAAA2IYEBAAAAIBtSEAAAAAA2IYEBAAAAIBtSEAAAAAA2IYEBAAAAIBtSEAAAAAA2IYEBAAAAIBtSEAAAAAA2IYEBAAAAIBtSEAAAAAA2IYEBAAAAIBtSEAAAAAA2IYEBAAAAIBtSEAAAAAA2IYEBAAAAIBtSEAAAAAA2IYEBAAAAIBtSEAAAAAA2IYEBAAAAIBtSEAAAAAA2IYEBAAAAIBtSEAAAAAA2IYEBAAAAIBtSEAAAAAA2IYEBAAAAIBtSEAAAAAA2IYEBAAAAIBtSEAAAAAA2IYEBAAAAIBtSEAAAAAA2IYEBAAAAIBtSEAAAAAA2IYEBAAAAIBtSEAAAAAA2IYEBAAAAIBtSEAAAAAA2IYEBAAAAIBtSEAAAAAA2IYEBAAAAIBtSEAAAAAA2IYEBAAAAIBtSEAAAAAA2IYEBAAAAIBtSEAAAAAA2IYEBAAAAIBtSEAAAAAA2IYEBAAAAIBtSEAAAAAA2IYEBAAAAIBtSEAAAAAA2IYEBAAAAIBtSEAAAAAA2IYEBAAAAIBtuiU6ABzg9/u1adMmZWZmyjCMRIcDAACARkzTVG1trXJzc+Vw8F5+e5CAJJFNmzZp0KBBiQ4DAAAArVi/fr0GDhyY6DA6JBKQJJKZmSnJ+oV2uVwJjgYAAACNeb1eDRo0KHjfhrYjAUkigWVXLpeLBAQAACCJsVy+/Vi4BgAAAMA2JCAAAAAAbEMCAgAAAMA2JCAAAAAAbEMCAgAAAMA2JCAAAAAAbEMCAgAAAMA2JCAAAAAAbEMCAgAAAMA2JCAAAAAAbEMCAgAAAMA23RIdAAAAsWKapurr6+X3+xMdCoAk4nA4lJKSIsMwEh0KRAICAOgEdu3apZqaGtXW1srn8yU6HABJyOl0KjMzU263W+np6YkOp0sjAQEAdGi1tbXasGGDUlJS1KtXL/Xs2VMOh4N3OgFIsmZG/X6/du7cKa/Xq+rqag0cOFCZmZmJDq3LIgEBAHRYu3bt0oYNG+RyuZSbm0vSASCsnj176qCDDtKmTZu0YcMGDR48mJmQBKEIHQDQYdXU1CglJYXkA0BEDMNQbm6uUlJSVFNTk+hwuiwSEABAh2Sapmpra+VyuUg+AETMMAy5XC7V1tbKNM1Eh9MlkYAAADqk+vp6+Xw+9ezZM9GhAOhg0tPT5fP5VF9fn+hQuiQSEABAhxTYatfh4J8yAG3jdDoliS27E4S/2gCADo3lVwDair8bicUuWF2Uz2+qtKJKW2vr1C8zTYV5WXI6+J8RAAAA8UUC0gWVlHk0rbhcnpq64LEcd5qmjstXUUFOAiMDAABAZ8cSrC6mpMyjKXOXhyQfkrS5pk5T5i5XSZknQZEBAACgKyAB6UJ8flPTisvV3IZzgWPTisvl87MlHQAAAOKDBKQLKa2oajLz0ZApyVNTp9KKKvuCAgAAQJdCAtKFbK0Nn3y0ZxwAAADQViQgXUi/zLSYjgMAYO3atTIMIyYfkydPTvTLAWADEpAupDAvS73SU1oc0zs9RYV5WTZFBAAAgK6GbXgRgvJzAEBb9OvXT6+++mrYx8vKyvS73/1OknTUUUfpf/7nf8KOPfjgg2MeH4DkQwLShZRWVKl6V32LY6p31au0okqjhvSxKSoAQEeWnp6uCy64IOzjvXr1Cn7dt2/fFscC6BpYgtWFUIQOAACARCMB6UIoQgcAJJvFixcHi9DvvfdeSdK3336rX/3qVzrqqKPUq1evkMck6bTTTgue05p77703OHbx4sUtjq2rq9Njjz2m888/X4MGDVJaWprcbrcKCgp0yy236JtvvonilQIIYAlWFxIoQm9pGRZF6ACARJo7d66uv/567d6929bnff/993XFFVdo48aNIcf37Nmjr7/+Wl9//bUeeeQR/eEPf9Bdd91la2xAZ0MCghAUoQMAEmXJkiW67777ZBiGrrrqKo0ZM0Y9e/bU6tWr41qg/tZbb2nChAmqr6+Xw+FQUVGRzjrrLA0YMEB1dXX69NNPNWfOHNXU1Ojuu++WJJIQIAokIF0IRegAYC+f31RpRZW21tapX2aaCvOy5HS0vmyoq3rnnXfUr18/vfPOOzrmmGNseU6Px6OJEyeqvr5e/fr104IFCzRy5MiQMZMmTdIdd9yhoqKi4K5eP/nJTzRs2DBbYgQ6GxKQLoQidACwT0mZR9OKy+WpOfA3Ncedpqnj8lVUkJPAyJLbY489ZlvyIUl/+ctfVFVVJUl66aWXmiQfAQMGDNCLL76ogoIC+Xw+PfTQQ5o5c6ZtcQKdCUXoXQhF6ABgj5Iyj6bMXR6SfEjS5po6TZm7XCVlngRFltwGDx6sCRMm2PZ8pmlqzpw5kqRRo0ZpzJgxLY4fNmyYCgsLJUlvv/123OMDOitmQLqQwrws5bjTmvyD2FCOO40idACIgs9valpxebM1daYkQ9K04nKNzc9mOVYjJ598ckQ7W8VKeXm5KisrJUm9e/fWa6+91uo5TqdTklRRUaG6ujqlpfGmHdBWJCBdiNNhaPzwHD32QUXYMeOH5/APIgBEobSiqsU3ekxJnpo66u2aMXDgQFufb+3atcGv33zzTb355pttOr+qqkq5ubkxjgro/FiC1YX4/KYWftHytP/CLzzy+dkLCwDai3q79uvRo4etz1ddXR3V+Xv37o1NIEAXQwLShbT2rpx04F05AED7UG+XXHw+X9jHMjIygl//8pe/lGmabfo45JBDbHgFQOdDAtKF8K4cAMRfoN4u3GJWQ9TbRSs1NTX4dWuzENu2bQv7WMMlX+vXr48+MAARIQHpQnhXDgDiz+kwNHVcviQ1SUIC308dl0+9XRR69+4d/Lpx5/LGli5dGvaxY489Vm63W5L0r3/9S3v27IlNgABaRALShfCuHADYo6ggRzMnjlC2O/QNnWx3mmZOHEEfkCgdddRRwa/ffffdsOPee+89ffHFF2EfdzqduuKKKyRZMyV//etfYxckgLBIQLqQwLty4UrMTfGuHADESlFBjj664ww9f91IPXTpsXr+upH66I4zSD5i4Jxzzgl+fd999+mHH35oMubrr7/WpEmTWr3W3XffrV69ekmSfvvb32rGjBny+/1hx+/cuVP/+Mc/9Pzzz7c9cACS2IYXAIC4cToMttqNgxNOOEFnnHGGFi1apHXr1um4447TjTfeqCOOOEK1tbX68MMP9dxzzyklJUUTJkzQggULwl5rwIABmj9/vsaNG6c9e/bo9ttv1yOPPKKf/OQnys/PV0ZGhmpra1VRUaFPP/1UixYtUl1dnf7whz/Y+IqBzoUEpAsJNMcKh+ZYAICOYvbs2TrjjDO0evVqbdy4Ub/73e9CHs/KytLzzz+vJUuWtJiASNLYsWP10UcfaeLEifrPf/6jb7/9Vn/+85/Djnc6ncrOzo7J6wC6IhKQLoTmWACAzmLQoEFavny5HnzwQb3yyitavXq1TNPUwQcfrPHjx+uWW27RgAEDtGTJkoiud8IJJ6i8vFyvvPKKFixYoI8//lhbtmzRzp07lZGRoUGDBunoo4/WaaedpvHjx5OAAFEwTNOk61yS8Hq9crvdqqmpkcvlivn1F6zYqFvnrWh13EOXHqsJxw6I+fMDQCzV1dWpoqJCeXl5Sktj9z4AkYvm70e879e6AorQuxC24QUAAECikYB0IYV5WeqVntLimN7pKWzDCwAAgLghAUEI1uMBAAAgnkhAupDSiipV76pvcUz1rnqVVlTZFBEAAAC6GhKQLmRrbfgdsNozDgAAAGgrEpAuhCJ0AAAAJBoJSBdSmJelHHfLyUWOO40idAAAAMQNCUgX4nQYGj88p8Ux44fn0AUdAAAAcUMC0oX4/KYWfuFpcczCLzzy+dkLCwAAAPFBAtKFlFZUyVPTcoG5p6aOXbAAAAAQN90SHQDsE+nuVpu9SbALlt8nrVsi7dgiZfSXBo+WHM5ERwUAAIAokYB0IZHubvWH179WjxSHigparheJm/KFUskdknfTgWOuXKloupQ/PjExAQAAICZYgtWFBHbBaq3EvGpnvabMXa6SspbrReKifKE0f1Jo8iFJXo91vHyh/TEBAAAgZkhAuhCnw9DUcfmS1GoSIknTisvtLUj3+6yZDzX3nPuPldxpjQMAAECHRALSxRQV5GjmxBHq3bN7i+NMJaAgfd2SpjMfIUzJu9EaBwAAgA6JBKQLKirI0e/OOzKisZEWrsfEji2xHQcAAICkQwLSRWW7e0Q0LtLC9ZjI6B/bcQAAAEg6JCBdVGsF6YakHHeaCvOy7Atq0EmS0cqvpOG0xgEAAKBDIgHpoloqSA98P3VcvpyOSMrVY2T9x5Lpb3mM6bPGAQAAoEMiAenCAgXp2e7QZVbZ7jTNnDjC/j4g1IAAAAB0ejQi7OKKCnI0Nj9bpRVV2lpbp74ZqZIpbdu5R0vXVKowL8u+WZCeB8V2HAAAcTJ58mQ9/fTTkqSKigodcsghiQ0I6ECYAYGcDkOjhvRRajeH/uvFL3TFEx/r1nkrdNmsZTpl+iL7GhKaEfYciXQcAMBWhmGE/cjIyNDBBx+s888/X3//+9/l9XoTHW7SWLt2bZOf15133hnx+bNmzWpy/uLFi+MXMBAlEhBIkkrKPJoyd7k8NaHb7m6uqbOvK/qubbEdBwBIGjt37tT69ev1xhtv6Be/+IUOP/xwvf3224kOK2nNmTNHPl9kjXeffPLJOEcDxBZLsCCf39S04vKw/ccNWV3Rx+Znx3c5FtvwAkCn8eqrr4Z8X1tbqxUrVmjOnDnatm2btmzZogkTJmjx4sUaOXJkgqJMPt26ddO+ffvk8Xj01ltv6fzzz29x/MqVK7Vs2bKQc4FkxwwIVFpR1WTmoyHbuqLvrGx9jGuANHh0fOMAAETtggsuCPm48sor9cADD2jVqlU64YQTJEl79uzR7bffnuBIk8vxxx+v/v2tN9qeeuqpVscHZj+6d++us846K66xAbFCAoKIu53HtSu63yf9867Wx539R8nhjF8cAIC46tOnT7B4W5KWLVum9evXJzCi5NKtWzddeeWVkqTi4mJt2xZ+2fG+ffv0zDPPSJImTJigPn362BIjEC0SEETc7TyuXdHXLZG8m1ofl84fVwDo6PLz8zV06NDg919++WXw69mzZwcLqWfPni1JWr58uW688UYdfvjhyszMDHmsoZqaGj3wwAM666yzlJubq9TUVGVlZen444/XXXfdpY0bN0YU3+7du/XnP/9ZJ554otxutzIzM5Wfn6/f/OY3tiRL11xzjSSpvr4+mGA054033tCWLVtCzmmL4uJiTZo0SUOHDlVmZqbS09OVl5eniRMn6t133231/Lq6Oi1YsEC33HKLRo8erYMOOkgpKSnKzMzUYYcdpiuvvFLvvPNOq9e59957mxTPf/bZZ7r66qt16KGHKi0tTX369NHpp5+u2bNny+9vpWcYkh41IAh2Rd9cU9dsHYghqzdIXLuiR9rb4z9vSnlj4hcHAMAW/fr10+rVqyVZiUM4f/7zn3X33Xe3WpD94osv6sYbb1RVVehy4b1792r79u1avny5ZsyYoUcffVRXXXVV2Ot89913Ovvss4OxBaxcuVIrV67UE088oRdffLG1lxeVI488UiNHjtSyZcv01FNPhV2mFlh+NWDAAP34xz/W3LlzI7r++vXr9bOf/UxLly5t8tjatWu1du1aPfvss/rpT3+qOXPmKD09vdnr5Ofnq6KiosnxHTt2aPXq1Vq9erXmzp2rCRMmaO7cucrIyIgovunTp+u///u/Q/6b79mzR4sXL9bixYu1YMECvfjii+rWjdvYjor/cgh2RZ8yd7kMKSQJsa0reqSF5csekQ4eJeWPj18sAIC427p1a/Brt9vd7Jj58+frrbfeUkZGhiZNmqTCwkKlpKSovLxc2dnZwXGzZs3SDTfcINM01b17d02YMEE/+tGP1L9/f+3YsUMfffSRnnvuOdXV1Wny5Mnq3r27LrvssibPV11drTPOOEPr1q2TJA0cOFDXXHONjjzySNXW1urNN9/Ua6+9posuukjDhw+P8U8k1DXXXKNly5bpq6++0qeffhqsmwnYsmWL3nzzTUnSVVddJYcjskUt69ev10knnSSPx9rd8rjjjtMFF1ygoUOHyuFw6D//+Y/mzJmj7777Ti+//LJ27typN998U4bR9B5g165d6tWrl8444wwdd9xxGjx4sNLT0+X1evXll1/qhRdekMfj0YIFC3TNNddo/vz5rcY3a9YsPffcczrooIM0efJkHXPMMXI4HFqyZIn+8Y9/aM+ePXrttdeCiSk6KBNJo6amxpRk1tTUJOT53/pqkznyj++ag+94Pfgx8o/vmm99tSn+T+7bZ5oPDDPNqW7TnOpq+eOBI63xALq03bt3m+Xl5ebu3bsTHQr2k/Ueltna7cXKlStDxq5bty742FNPPRXy2OGHHx7yeGNffPGF2b17d1OSedhhh5krV65sdlx5ebmZm5trSjIzMzPNysrKJmOuv/764POOGTPG9Hq9Tca8+OKLptPpDImxoqKixdfbmoqKiuC1Tj75ZNM0TdPr9Zrp6emmJHPKlClNzvnzn/8cPOfbb781TdM0r7jiiuCxf/3rX03O8fv95qhRo0xJptPpNB9//PFm46mrqzMvvfTS4LVmzZrV7Lg333zT3Lt3b9jXtXPnTvOCCy4IXufDDz9sdtzUqVNDfp6nnnqqWV1d3WTc4sWLgz/7vn37mnv27An73K2J5u9Hou/XOgNqQBBUVJCjj+44Q89fN1IPXXqsnr9upD664wwVFeTE/8kdTqloutTsIrBGvBuljx+1CtcBIJn5fVLFh9JXL1mf+bul7du3a/LkycHvTzrpJB188MHNjjUMQ/PmzQv7uGTVD+zdu1dpaWl68803NWzYsGbHHXnkkcG6kdraWs2aNSvk8R9++CH4eGZmpubPn6/MzMwm17nooots2bkrMzNTF198sSTp+eefV11d6EYwgR2yfvSjH4XU07SkuLg4uOzq3nvv1XXXXdfsuNTUVD399NPB7u4PPPBAs+POOeccpaSkhH2+9PR0Pf300+rZs6ckhWw+EE5WVpZefvnlZmfFTj31VF100UWSpG3btumTTz5p9XpITiQgCBHoij7h2AEaNaRPfJddNZY/Xhp5U2Rj375bmlEglS+Mb0wA0F7lC62/U0+fL718rfW5C/3deu2110I+5s6dq1//+tcaNmyYPv74Y0nW1rEPPvhg2GuccsopOu6448I+Xl1drQULFkiSfvKTn7R6Iz527Fjl5FhvqjVugvjGG29o7969kqTLL788ZIlXY7/85S8jXvIUjUBheXV1dUhflaVLl2rlypUhYyIRSABSU1N1yy23tDi24TK1VatW6fvvv29T7AEul0tHH320JAX7lbRk0qRJLe7mNXbs2ODXZWVl7YoJiUcNCJLLEedadR6R8Hqk+ZOkS+ZQEwIguZQvtP4+NZ7V7UJ/t37yk5+0+PhBBx2k2bNna9SoUWHHjBnT8qYj//73v4M7IqWmpuq1115rNa7MzEx5PB6Vl5eHHC8tLQ1+feaZZ7Z4jZycHOXn58f9Bjgwu7F69Wo9+eSTwYQgUHyemZkZnBGIxAcffCBJ6t+/vxYtWtTq+O3btwe/Li8vb3Ymavv27Xr22WdVUlKisrIyVVZWaufOnTLNpisaNmzY0OpztvT7IFl1Oc3Fh46FBATJZfBoyZVr/SPd6nKs/X3aS+6Uhp1HfxAAycHvk0ruUPN/w7ru360ePXqoT58+Ovroo3XOOefoyiuvVK9evVo8p+HNZnPWrl0b/Hr27NnNbs0bTuPdsjZtOrAVfCRLmoYOHRo2AVm+fHmLMwYjRoxocVlZQ1dffbX++7//W4sWLdL333+vvn376oUXXpAkXXLJJcHlTa3ZuXNnsKfI999/32qC2Fjjn5ckLViwQNdee60qKyNoJCzJ6/W2OqZv374tPp6amhr8uvGyNHQcJCBILoFakPmTpCZ7cjXHtGpC1i1he14AyaHVvkZd4+9Wc++At1WPHj1afLy6urrd166vrw/5fseOHcGvw20721BLN/7/93//12K9w1NPPRVSB9OSq666Svfcc498Pp9mz56twYMHq7a2VlLbll9F87OSFFyeFrB06VJddNFF2rdvnyTpmGOO0VlnnaWhQ4eqd+/eSk1NDe6c9dvf/lZff/11RP077FjahsQjAUHyyR9vLU8ouSOy5oSS1UfE77P+Qd+xxdrWd/DoLvXuIoAkEWlfo0jHIayGfSX+7//+TzfffHNMrrVr165Wx+/cubPdz9UWgR4fb731lmbPnh2cFRo2bJhGjx4d8XUavr4RI0bos88+iyque+65J5h8/P3vf9dNN4Wv4bzvvvuiei50PqSZSE7546XbyqSz/xjZ+Mo1XbrYE0ASibSvUaTjEFbDJVrRdigfMGBA8OvGTQib09KY2bNnyzTNsB+Rzn4EBGY6Kioq9OGHH0qylma1hdvtDiYhkdRitKS+vj7Ysfz4449vMfmQQpfKARIJCJKZwymddKNVE6Jwu3EZUo8safEfm86WBIo9SUIA2ClQy9bS3y3XAGscojJmzJjgMp+SkpKorlVYWBj8urUCbY/HE9yFyg7jx48PqY1wOp268sor23ydU089VZLVBDKaGZBt27YFZz9aq5f55JNPgrUnQAAJCNrE5ze1dE2lFqzYqKVrKuXzR7/Gt0XB/iBS03/MA9+Hi2H/8ZI72XsfgH0i+btVdD9LRGOgX79+OueccyRJX331lZ5//vl2X+vcc89V9+7dJUnPPfectmwJv0RuxowZ8vns+3ele/fu+tWvfqWTTjpJJ510km688cbgdsJtcdVVVwW//u1vf9vuOp2G9S+tzRZNnTq1Xc+Bzo0EBBErKfPolOmLdNmsZbp13gpdNmuZTpm+SCVlnvg+caAmxNXoj60rVzrtLml3S9vwNSj2BAC7tPR3qwtswWun++67L5g4/PznP281CamqqtJf//pXvfvuuyHHDzrooODSKK/Xq0svvTSkMD3g1Vdf1V//+tfYBN8Gd955p5YtW6Zly5bpb3/7W7uucdFFF+mkk06SZM0YTZo0qdnXGODz+VRSUqL/+Z//CTnucrl0+OGHS5I+++wzvfTSS82ee/vtt+utt95qV6zo3ChCR0RKyjyaMnd5k7mGzTV1mjJ3uWZOHBHfjun5460tKxsXmX/9auvnShR7ArBfuL9bzHzE1LHHHqvHHntM1157rXbt2qXLL79cf/7znzVu3Dgddthh6tGjh2pqarR69WqVlpbqgw8+0L59+/TMM880udb06dNVUlKi77//XosXL1Z+fr6uvfZaDRs2TLW1tXrrrbf0yiuvqHfv3ho+fHiwDqKjMAxDL7/8skaNGqX169dr7ty5euONN3TxxRfr+OOPV1ZWlurq6rRp0yZ98cUXeuedd/TDDz/ozDPP1G9/+9uQa912223B2o9LLrlEP/vZz3Tqqaeqd+/eWr16tZ599lmtXLlSBQUFSk1NjbroHZ0LCQha5fObmlZc3tKO9ppWXK6x+dnx7ZzucDbdspJiTwDJrLm/W4i5yZMnKycnR9dcc402bdqkFStWaMWKFWHHp6amNttvolevXlq0aJGKioq0evVqrV+/Xvfee2/ImKysLL344ouaM2dOjF+FPQYMGKBPP/1UkydP1ltvvaXt27fr8ccfb/Gc5vqx3Hjjjfr000/15JNPyjRNzZs3T/PmzQsZc/TRR2vBggVtLphH50cCglaVVlTJUxO+2Y8pyVNTp9KKKo0a0se+wKQIGhca1uMUewJAp3b22Wfru+++03PPPac333xTn332mX744QfV1dUpMzNThxxyiIYPH64zzjhD48aNC9sEcciQIfryyy/18MMP64UXXtC3334rv9+vQYMG6fzzz9ctt9yiQYMGddgERLJqZ958800tW7ZMzz77rD766COtX79e1dXVSktLU3Z2to488kidcsopOv/883XUUUc1uYZhGHriiSd03nnn6fHHH9enn34qr9erPn366IgjjtDFF1+sa6+9VmlpaQl4hUh2hhmLTkGICa/XK7fbrZqaGrlcrkSHE7RgxUbdOm9Fq+MeuvRYTTh2QKvjYq584f7GhVJoErJ/Nob11kCnVFdXp4qKCuXl5XGTA6BNovn7kaz3ax0JRehoVb/MyP7HjHRczLWl2NPvkyo+lL56yfrM7lgAAAC2YgkWWlWYl6Ucd5o219SFW+SkbHeaCvOy7A7tgEiKPcsXNu2u7sq1tstkhgQAAMAWzICgVU6Hoanj8iWF78QxdVx+fAvQIxEo9jz6Iutz4+Rj/iSaFQIAACQYCQgiUlSQo5kTRyjbHbrMKtudFv8teKPl91kzH2H38RLNCgEAAGzCEixErKggR2Pzs1VaUaWttXXql2ktu0r4zEdr1i1pOvMRokGzQrbLBAAAiCsSELSJ02HYv9VutCJtQkizQgAAgLhjCRY6P5oVAgAAJA1mQGArn9+0fwkXzQoBAACSBgkIbFNS5tG04vKQruo57jRNHZcf3yJ2h9Paanf+JFn7djXTrLDo/tBdswAAABAXLMGCLUrKPJoyd3lI8iFJm2vqNGXucpWUeeIbQFuaFQIAACBumAFB3Pn8pqYVl4fdBNeQNK24XGPzs+O7HCuSZoUAAACIKxIQxF1pRVWTmY+GTEmemjqVVlTFf4etQLNCAJ2GaTb39gYAhMffjcQiAUHcba0Nn3y0Z5xt/D5mS4Ak5nBYq4j9fn+CIwHQ0fh8VvPhwN8R2IsEBHHXLzOt9UFtGGeL8oVW9/SGDQxduVYxO/UiQFJISUmR0+nUzp071bNnz0SHA6AD2bVrl5xOp1JSUhIdSpdE2oe4K8zLUo47TeGqOwxZu2EV5mXZGVZ45QutHbMad0/3eqzj5QsTExeAEIZhKDMzU16vl+UUACJmmqa8Xq8yMzNlGHFuBYBmdZkEZOvWrXr99dd1zz336JxzzlHfvn1lGIYMw9DkyZMjusbs2bOD57T2MXv27Li+no7E6TA0dVy+JDVJQgLfTx2XH/9+IJHw+6yZj7Al85JK7rTGAUg4t9ut+vp6bdq0iSQEQKtM09SmTZtUX18vt9ud6HC6rC6zBKt/f7pcJ1JRQY5mThzRpA9Ith19QNpi3ZKmMx8hTMm70RpHMTuQcOnp6Ro4cKA2bNig3bt3y+VyKT09XU6nk3c2AUiykg6fz6ddu3bJ6/Wqvr5eAwcOVHp6eqJD67K6TALS0MEHH6xhw4bpn//8Z7uv8fbbbys3Nzfs4wMHDmz3tTurooIcjc3Ptr8Telvs2BLbcQDiLjMzU4MHD1ZNTY2qq6tVWVmZ6JAAJCGn06nMzEy53W6SjwTrMgnIPffcoxNPPFEnnnii+vfvr7Vr1yovL6/d1zv88MN1yCGHxC7ALsLpMOK/1W40MiKcKYt0HABbpKenKz09XdnZ2aqvr2dnLAAhHA6HUlJSmBlNEl0mAZk2bVqiQ0BHMHi0tduV16Pm60AM6/HBo+2ODEAEDMNQ9+7dEx0GAKAFXaYIHYiIw2lttSspbMl80f30AwEAAGgnEhCgsfzx0iVzJFejwnhXrnWcPiAAAADt1mWWYMXa1Vdfrf/85z/atm2bXC6Xhg4dqrPOOktTpkzRgAEDEh0eopU/Xhp2Hp3QAQAAYowEpJ0WL14c/LqyslKVlZX6+OOP9cADD2jGjBm64YYbEhdcJ+Tzm/bvnuVwRrfVrt9HAgMAANAICUgbHXroobrwwgs1atQoDRo0SJL03Xff6eWXX9ZLL72kuro63XjjjTIMQ9dff32L19qzZ4/27NkT/N7r9cY19o6qpMzTpH9ITrL1D2msfKHV0LBhTxFXrlVfwhIuAADQhRlmF20d23Ab3quuuiqizuU1NTVyuVxht3B7/fXXdeGFF6q+vl7p6elas2aNsrOzw17v3nvvbXZ3rsDzwEo+psxd3mQ/qsB/gZkTRyRfElK+UJo/SU130dofNXUkAAB0WF6vV263m/u1KFCE3gZut7vF/aPPP/983XPPPZKkXbt26YknnmjxenfddZdqamqCH+vXr49pvB2dz29qWnF5s5vhBo5NKy6Xz59EObTfZ818tBR1yZ3WOAAAgC6IBCTGrr/++mCS8v7777c4NjU1VS6XK+QDB5RWVIUsu2rMlOSpqVNpRZV9QbVm3ZLQZVdNmJJ3ozUOAACgCyIBibF+/fqpTx+r0/fGjRsTHE3HtrU2fPLRnnG22LEltuMAAAA6GRKQOGhpmRYi1y8zLabjbJHRP7bjAAAAOhkSkBj74YcftG3bNklSbm5ugqPp2ArzspTjTmvSjzzAkLUbVmFelp1htWzwaGu3q5aidg2wxgEAAHRBJCAx9vjjjyuwsdipp56a4Gg6NqfD0NRx+ZKa3s4Hvp86Lj/+/UDawuG0ttqVFDbqovvpBwIAALosEpAIrV27Vp9//nmLY15//XX9/ve/lyT16NFDV199tR2hdWpFBTmaOXGEst2hy6yy3WnJuQWvZG2xe8kcydUoNlcuW/ACAIAur8s0Ivzoo4+0evXq4PeBZVKStHr16iZ9QCZPnhzy/dq1a3X66adr1KhRGjdunIYPH65+/fpJshoRvvTSS3rppZeCsx//+7//qwEDBsTnxXQxRQU5GpufbX8n9Gjkj5eGnUcndAAAgEa6TCPCyZMn6+mnn454fOMfy+LFi3X66ae3el56eroefPDBVrugN4fGNgAAAMmN+7XodZkZkGgdf/zxmjt3rpYuXapPP/1UHo9H27Zt0759+9S7d28dddRROvPMM/Xzn/88ODMCtJvfx+wJAADolLrMDEhHQEYNSVL5QqubesOGhq5cq7id+hEAABKK+7XoUYQOJJPyhdL8SU27qXs91vHyhYmJCwAAIEZIQNCp+fymlq6p1IIVG7V0TaV8/iSe8PP7rJkPNRfj/mMld1rjAAAAOihqQNBplZR5NK24XJ6auuCxHHeapo7LT87te9ctaTrzEcKUvButcXljbAsLAAAglpgBQadUUubRlLnLQ5IPSdpcU6cpc5erpMyToMhasGNLbMcBAAAkIRIQdDo+v6lpxeUtLWTStOLy5FuOldE/tuMAAACSEAkIOp3SiqomMx8NmZI8NXUqraiyL6hIDB5t7XalcA0WDck1wBoHAADQQZGAoNPZWhs++WjPONs4nNZWu5KaJiH7vy+6n34gAACgQyMBQafTLzMtpuNslT9eumSO5GpUJO/KtY7TBwQAAHRw7IKFTqcwL0s57jRtrqlrtg7EkJTtTlNhXpbdoUUmf7w07Dw6oQMAgE6JBASdjtNhaOq4fE2Zu1yGQrtqBBY2TR2XL6cjXK1FEnA427/Vrt9H8gIAAJIWCQg6paKCHM2cOKJJH5DsZO4DEgvlC61mhg37ibhyrdoSlm8BAIAkYJimmWR7kXZdXq9XbrdbNTU1crlciQ6nU/D5TZVWVGlrbZ36ZVrLrpJ65iMa5Qul+ZPUtJP6/tdLDQkAAFHjfi16zICgU3M6DI0a0ifRYcSf32fNfITtfmJIJXdatSUsxwIAAAnELlhAZ7BuSeiyqyZMybvRGgcAAJBAzIAA7ZB0S7t2bIntOAAAgDghAQHaqKTM06S4PSfRxe0Z/WM7DgAAIE5YggW0QUmZR1PmLg9JPiRpc02dpsxdrpIyT2ICGzza2u2qSQf1AENyDbDGAQAAJBAJCBAhn9/UtOLysGXekjStuFw+fwI2lnM4ra12JTVNQvZ/X3Q/BegAACDhSECACJVWVDWZ+WjIlOSpqVNpRZV9QTWUP97aatfVaBmYK5cteAEAQNKgBgSI0Nba8MlHe8bFRf54a6vdWHRCp6M6AACIAxIQIEL9MtNiOi5uHE4pb0x016CjOgAAiBOWYAERKszLUo47raUyb+W4rS15O7RAR/XGfUW8Hut4+cLExAUAADoFEhAgQk6Hoanj8iWFLfPW1HH5ie0HEq1WO6rL6qju99kZFQAA6ERIQIA2KCrI0cyJI5TtDl1mle1O08yJIxLXByRW6KgOAADijBoQoI2KCnI0Nj87Zp3Qk6qrOh3VAQBAnJGAAO3gdBgaNaRP1NdJuq7qdFQHAABxxhIsIEGSsqs6HdUBAECckYAACZC0XdVj2VHd75MqPpS+esn6TOE6AAAQS7CAhGhLV/VYLPVqk0BH9Wb7gNwfWR8Q+ogAAIAwSECABEj6rurRdFQP9BFpPL8T6CNyyRySEAAAujASECABOkRX9fZ0VG+1j4hh9REZdl5kyQwAAOh0qAEBEqDTdlWnjwgAAGgFCQiQALHsqu7zm1q6plILVmzU0jWV9heuN0QfEQAA0AqWYAEJEuiq3rgPSHYb+oB06j4ifl/7alAAAEBSM0zTTODbpWjI6/XK7XarpqZGLpcr0eHAJu3thB7oI9L4f+DAmTMnjrA/CfH7pBkFVsF5s3UghrUb1m1ftZxMsIsWACBJcb8WPZZgAQkW6Ko+4dgBGjWkT8TLrjptH5HALlqNa0kCu2iVL4xVtAAAIAFIQIAOqC19RGwX6CPiajT74sptfQveVnfRkrWLFk0NAQDosBJWA7J3715VV1dr9+7d6tGjh3r37q2UlJREhQN0KPHqI9Le5WBNtLePSFt20WrrFsEAACAp2JaAlJaWqqSkRMuWLdOXX36pzZs3q2H5iWEYys7O1vDhwzVy5EidffbZKiwstCs8oEOJRx+RmBe0t6ePSKx30aKQHQCApBPXBGT9+vV69NFH9cwzz2jjxo0hjzWufTdNUx6PRx6PRyUlJbr33ns1YMAAXXnllbrhhht08MEHxzNUoEMJ9BHZXFMXrtRb2W3oIxKuoH1zTZ2mzF1uX0F7LHfRopAdAICkFJcakG+//VZXXHGFhgwZovvvv18bNmyQaZrBj9TUVOXm5uroo4/WySefrIKCAuXk5Cg1NTVk3IYNG3T//fdr6NChuuKKK/TNN9/EI1ygw4l1H5GkKWgfPNpKElpq0egaYI1rCYXsAAAkrZgmINu3b9dNN92ko446SvPmzdO+fftkmqaOOeYY3XLLLXruuedUUVGhXbt2acOGDfriiy/04Ycf6ssvv9TGjRu1a9curVmzRs8++6xuvvlmDR8+XKZpat++fZo3b54KCgp00003afv27bEMG+iQAn1Est2hy6yy3WltmrFIqoL2WOyiRSE7AABJLaZ9QA466CBVVVXJNE3l5ubqmmuu0aRJkzR06NB2X3PNmjV6+umn9eSTT2rTpk0yDEN9+vTR1q1bYxV20mBfabRHtIXjC1Zs1K3zVrQ67qFLj9WEYwfE7Hlb1OzyqQFW8tHa8qmKD6Wnz2/9Oa56nUJ2AECbcb8WvZjWgFRWVmro0KG66667dOWVV6pbt+gvP2TIEP3+97/XPffco2eeeUZ/+tOftGbNmhhEC3QOgT4i7dWegva4d2Bv7y5aUuwK2SlgBwAgLmKagPz973/X9ddfL6cz9v9Id+vWTVdffbUmTZqkxx9/PObXB7qqtha021aw3p5dtKTYFLJTwA4AQNzEtAZkypQpcUk+GnI6nZoyZUpcnwPoStpS0J5UBevhRFvITgE7AABxRSd0ABEXtCdVwXo40RSyU8AOAEDcJawTOoDkUlSQo7H52S0WlserA3vM5Y+XLpkTZhlVC4XsdGIHACDukioB2bp1q5YtW6Z9+/Zp+PDhGjJkSKJDArqU1gra49GBPW7aU8ge607sAACgCVsSkKqqKs2ePVuSdN555+mII45oMuYPf/iD7rvvPtXX1weP/exnP9OTTz6ptLQkuJkBEPMO7HHX1kL2WHZiBwAAzbKlBuSFF17Qf/3Xf+nuu+9W3759mzz+7LPPaurUqaqvrw/phP7CCy9o8uTJdoQIIAKx7MAuWb1Elq6p1IIVG7V0TWVii9el2HViBwAAYdmSgPzrX/+SJI0ZM0Z9+jRd3nHPPfdIkkzT1IQJE3Tbbbdp0KBBMk1TL774oj788EM7wgQQgVh1YC8p8+iU6Yt02axlunXeCl02a5lOmb5IJWWeeIQdmVh0YgcAAC2yZQnWN998I8MwNGrUqCaPLVmyRBUVFTIMQ3/4wx909913S5LuvPNOHXnkkaqurtYzzzyjMWMo+ASSRSQF6y2xrZdIe7S3gL0xGhkCANAsWxKQbdu2SZIOO+ywJo+9++67kqTU1FTdeuutweP9+vXTZZddpkceeUTLli2zI0wAbdDeDuyt9RIxZPUSGZufHXFCE3PRdGKXaGQIAEALbFmCVVlZKUnq2bNnk8f+/e9/S7KWZzV+/JhjjpEkff/993GOEIBdOkQvEelAAfvRF1mf25J80MgQAICwbElADMN6F3P79u0hx/1+vz7++GMZhtHsEqtAvciuXbviHyQAW3SYXiLtQSNDAABaZUsC0q9fP0nSt99+G3J82bJl8nq9kqSRI0c2OW/Hjh2SpB49esQ5QgB26VC9RNqqLY0MAQDoomxJQI477jiZpql58+Zp7969weOzZs2SJHXv3l0nn3xyk/O+++47SVJubq4dYQKwQaCXSAsb3SonmXqJtAWNDAEAaJUtCcjFF18sSVq/fr3OPPNMPfroo7ruuuv09NNPyzAMjR8/vtlZjmXLlskwDB155JF2hAnABrHuJZJUaGQIAECrDNM04975yzRNjR49Oljv0fB4WlqaPv30U+Xn54ecU11drf79+2vfvn364x//qDvuuCPeYSac1+uV2+1WTU2NXC5XosMB4qqkzKNpxeUhBek57jRNHZefuC14o+X3STMKrILzcL3iXbnSbV+xJS8AdFDcr0XPlm14DcPQG2+8oZ///OdauHCh/H6/JGnAgAF6/PHHmyQfkjR79mzV19fLMAydddZZdoQJwEbR9hJJSoFGhvMnyZrPaZiE0MgQAADJphmQhn744Qd999136tmzp/Lz8+VwNL8K7J///Kc8Ho8Mw9CkSZPsDDFhyKiBTqLZPiAD2tbIEACQlLhfi57tCQjC4xca6ETohA4AnRL3a9GzZQkWAHQ5gUaGAAAgRMISkA0bNqi8vFxVVVXau3dvl1lmBQAAAHRlticgTz75pB544AGtWrUq5HjjBOS+++7T+++/r0GDBumJJ56wM0QAAAAAcWJbArJ7925ddNFFKikpkWRtwRvQcGvegBNOOEG/+93vZBiG/uu//oteIAAkST6/2bl2zgqgZgQA0EXYloBMmjRJb731liTpkEMO0WWXXabt27fr0UcfbXb82LFjddBBB2nbtm16/fXXSUAAdM7eIVKYXbNyrS192TULANDJ2NIJ/b333tPLL78swzB02WWX6T//+Y/uu+8+nX322eEDczg0duxYmaapjz76yI4wASSxkjKPpsxdHpJ8SNLmmjpNmbtcJWWeBEUWpfKFVt+QhsmHZDUznD/JehwAgE7ElgRk9uzZkqRDDz1Us2fPVkpKSkTnDR8+XJK0cuXKeIUGoAPw+U1NKy5vtrd44Ni04nL5/B1sV3G/z5r5aOmVldxpjQMAoJOwJQH597//HWwoGGnyIUm5ubmSpM2bN8crNAAdQGlFVZOZj4ZMSZ6aOpVWVNkXVCysW9J05iOEKXk3WuMAAOgkbElAtmzZIkk64ogj2nReWlqaJKmuLvyNB4DOb2ttZH8DIh2XNHZsie04AAA6AFsSEKfT2snF7/e36byqKuvdzF69esU6JAAdSL/MtJiOSxoZ/WM7DgCADsCWBKR/f+sfz9WrV7fpvM8++0ySNGjQoJjHBKDjKMzLUo47TeE22zVk7YZVmJdlZ1jRGzza2u2qpVfmGmCNAwCgk7AlARk9erRM09Rrr70W8Tk7d+7Uiy++KMMwdMopp8QvOABJz+kwNHVcvqSmt+qB76eOy+94/UAcTmurXUlhX1nR/fQDAQB0KrYkIBdffLEk6fPPP9eTTz4Z0TlTpkzR9u3bJUlXXHFF3GID0DEUFeRo5sQRynaHLrPKdqdp5sQRHbcPSP546ZI5kqtR/K5c6zh9QAAAnYwtjQjPP/98jRw5UsuWLdONN96oLVu26Oabb2527Oeff67f/va3KikpkWEYOuecc1RYWGhHmACSXFFBjsbmZ3e+Tuj546Vh59EJHQDQJRimadqycf769et10kknafPmzTIMQ6mpqerfv7/WrVsnwzA0YsQIbdiwQVu3bpUkmaapgw8+WJ9++qn69u1rR4gJ5/V65Xa7VVNTI5fLlehwAAAA0Aj3a9GzZQmWZBWSf/zxxxo5cqRM01RdXZ2+//57GYb1zuXy5cu1ZcsWmaYp0zR10kknacmSJV0m+QAAAAC6AtsSEMlKQpYsWaIFCxbowgsvVJ8+fYIJh2maysjI0Hnnnaf58+dr6dKlwUaEAAAAADoH25ZghbNr1y5VV1crIyOjy09jMaUHoFV+H7UiAJBA3K9Fz5Yi9Jakp6crPT090WEA6IR8frNzFayXL5RK7pC8mw4cc+VaW/myWxYAoINIeAICAPFQUubRtOJyeWrqgsdy3GmaOi6/Y27ZW75Qmj9JUqNJa6/HOs6WvQCADiIhS7A8Ho/ee+89lZeXq6qqSvX19XriiSfsDiPpMKUHxEZJmUdT5i5vfKsebPXX4fqG+H3SjILQmY8QhjUTcttXLMcCgDjjfi16ts6AVFZW6vbbb9e8efPk8/kkWdvtGobRJAG58cYb9eSTT2rQoEFas2aNnWEC6MB8flPTisubJB+SNXdgSJpWXK6x+dkdZznWuiUtJB+SZErejda4vDG2hQUAQHvYtgtWRUWFjjvuOD377LPat29fcOercKZMmaJ9+/Zp7dq1+uCDD+wKE0AHV1pRFbLsqjFTkqemTqUVVfYFFa0dW2I7DgCABLIlAfH5fBo/frw2bNgg0zR1+eWX6+2339bf/va3sOcMHz5chx9+uCTp7bfftiNMAJ3A1trwyUd7xiWFjP6xHQcAQALZsgRrzpw5+vrrr2UYhmbMmKGbb75ZkrUFb0tOP/10ffPNN/r444/tCBNAJ9AvMy2m45LC4NFWjYfXoyZF6JKCNSCDR9sdGQAAbWbLDMjLL78sSTrllFOCyUckCgoKJEnffPNNXOIC0PkU5mUpx52mcNUdhqzdsArzsuwMKzoOp7XVriQ1eWX7vy+6nwJ0AECHYEsC8vnnn8swDF144YVtOq9v376SrOJ1AIiE02Fo6rh8SWFv1TV1XH7HKUAPyB9vbbXrarR7lyuXLXgBAB2KLUuwAgnEwIED23Sew2HlR36/P+YxAei8igpyNHPiiCZ9QLI7ch8QyUoyhp1HJ3QAQIdmSwLSs2dPVVdXt1rz0ZjH45EkZWV1oKUSAJJCUUGOxuZnd65O6JKVbLDVLgCgA7MlARk0aJCqq6v15Zdftum8Dz/8UJJ02GGHxSMsAJ2c02Fo1JA+iQ4DAAA0YEsNyGmnnSbTNDVv3jzt3bs3onMqKiq0cOFCGYah008/Pc4RAgAAALCDLQnI1VdfLcMwtGnTJt16662tjq+qqtLFF1+s+vp6devWTddcc40NUQIAAACIN1sSkOHDh2vy5MkyTVOPP/64ioqK9O6776q2tjY4ZteuXVq1apUefPBBDR8+PLhz1q233qpBgwbZESYAAACAODNM02yuq1XM7d27V2effbbef/99GUbLRaCBkM4++2y9/vrrcjq7xg4vXq9XbrdbNTU1crlciQ4HQEfl97FTFgDECfdr0bNlBkSSunfvrnfffVd33HGHUlNTZZpm8ENSyPepqan69a9/3aWSDwD28/lNLV1TqQUrNmrpmkr5/La8HxNf5QulGQXS0+dLL19rfZ5RYB0HACAJ2DYD0tAPP/ygF154QR988IHWrl2r6upqZWRkaODAgTr11FN16aWXasCAAXaHlXBk1IB9Sso8TfqE5HT0PiHlC6X5kyQ1/rO+f9aZhoUAEDXu16KXkAQEzeMXGrBHSZlHU+YuD3ebrpkTR3S8JMTvs2Y6vJvCDDCsrum3fcVyLACIAvdr0bNlCZbD4ZDT6dSkSZPseDoACMvnNzWtuLxJ8iEdmDeYVlze8ZZjrVvSQvIhSabk3WiNAwAggWxJQLp1s/odnnrqqXY8HQCEVVpRFbLsqjFTkqemTqUVVfYFFQs7tsR2HAAAcWJLAtK/f39JUmZmph1PBwBhba0Nn3y0Z1zSyOgf23EAAMSJLQlIQUGBJGnNmjV2PB0AhNUvMy2m45LG4NFWjYfCbXNuSK4B1jgAABLIlgTksssuk2mamjdvnqh5B5BIhXlZynGntXSbrhx3mgrzsuwMK3oOp1Q0ff83jV/d/u+L7qcAHQCQcLYkIFdeeaXGjBmjr776SrfddpsdTwkAzXI6DE0dly8p7G26po7Ll9PRcsPUpJQ/3tpq19VoBy9XLlvwAgCShm3b8FZXV+uKK65QSUmJjj/+eN10000aM2aMBg4cqNTUVDtCSHps6wbYp1P2AQmgEzoAxA33a9GzJQFp2M3cNE0ZRtveWTQMQ/v27Ysqhq1bt6q0tFSlpaX65JNP9Mknn6iyslKSdNVVV2n27Nltut5bb72lxx9/XJ988ol++OEHHXTQQTrxxBN1/fXX65xzzmlXjPxCA/by+U2VVlRpa22d+mVay6465MwHAMA23K9Fr5sdT9I4x0lEHUhgJ65o+f1+XX/99XriiSdCjm/cuFEbN27Ua6+9pp///Od67LHH5HDYssINQDs5HYZGDemT6DAAAOhSbElAfvSjH7V51iOeDj74YA0bNkz//Oc/23zuf//3fweTj+OOO06/+c1vNGTIEK1Zs0Z//vOf9fnnn+sf//iHDjroIP3xj3+MdegAAABAh2ZbDUiiTZ06VSeeeKJOPPFE9e/fX2vXrlVeXp6kyJdgffPNNzrqqKO0b98+nXDCCfrggw/Uo0eP4OO7du3Sqaeeqk8//VTdunXTypUrNXTo0IhjZEoPAAAguXG/Fr0us0Zo2rRpOv/886NaijVjxoxgLcrDDz8cknxIUnp6uh5++GFJ0r59+/Tggw+2P2AAAACgE+oyCUi0TNPUggULJEnDhg3TyJEjmx03cuRIHXHEEZKkBQsW0PcEAAAAaIAEJEIVFRXatGmTJOnUU09tcWzg8Y0bN2rt2rXxDg0AAADoMEhAIlReXh78etiwYS2Obfj4ypUr4xYTAAAA0NHYsgvWGWec0a7zHA6HMjMzlZWVpeHDh+v000/X0UcfHePoIrNhw4bg1wMHDmxx7KBBg4Jfr1+/Pm4xAUC70KgQAJBAtiQgixcvjtk2vKNHj9ajjz6qo446KibXi1RtbW3w64yMjBbH9uzZM/j1jh07wo7bs2eP9uzZE/ze6/VGESEARKB8oVRyh+TddOCYK1cqmi7lj09cXACALsO2JVimaYYUZAe+b+6jpTH//ve/deKJJ+rDDz+0K3RJUl1dXfDr7t27tzg2NTU1+PXu3bvDjvvTn/4kt9sd/Gg4cwIgufj8ppauqdSCFRu1dE2lfP4OuMFE+UJp/qTQ5EOSvB7rePnCxMQFAOhSbElA/H6/ampqdMkll8g0TR166KF64IEHtHz5clVXV6u+vl7V1dVavny5HnjgAR166KEyTVM/+9nPVFVVpc2bN2vhwoX68Y9/LMlKBi6++GLt3LnTjvAlSWlpacGv9+7d2+LYhrMajbfqbeiuu+5STU1N8IPlWkByKinz6JTpi3TZrGW6dd4KXTZrmU6ZvkglZZ5EhxY5v8+a+VBzidP+YyV3WuMAAIgjWxIQ0zR14YUX6sUXX9TkyZP19ddf6/bbb9exxx4rl8slp9Mpl8ulY489Vrfffru+/vprTZo0SfPnz9cll1yigw46SOeff75KSkr0m9/8RpL0ww8/BDuS2yEzMzP4dUvLqiSFJEYtLddKTU2Vy+UK+QCQXErKPJoyd7k8NXUhxzfX1GnK3OUdJwlZt6TpzEcIU/JutMYBABBHtiQgs2fP1nvvvaejjjpK//jHP1pdwtS9e3c98cQTOvLII/Xee+9pzpw5wcf+9Kc/BbuLv/nmm3GNu6GGhecNC9Kb03Amg2VVQMfl85uaVlze0pyBphWXd4zlWDu2xHYcAADtZEsCMmfOHBmGoUmTJsnhiOwpnU6nrrrqKpmmqaeffjp43DAMXXzxxTJNU2VlZfEKuYn8/Pzg16tWrWpxbMPHjzzyyLjFBCC+Siuqmsx8NGRK8tTUqbSiyr6g2iujf2zHAQDQTrYkIIEb8kMOOaRN5wXGN+6lEbipr6qy7x/9vLw85ebmSpLef//9Fsd+8MEHkqQBAwa0+TUDSB5ba8MnH+0Zl1CDR1u7XSncjoSG5BpgjQMAII5sSUCqq6slSZWVlW06LzC+pqYm5HigsLtbN1t2EZZkzbxMmDBBkpVQLVu2rNlxy5YtCyZcEyZMiNn2wwDs1y8zrfVBbRiXUA6ntdWupKZJyP7vi+6nHwgAIO5sSUBycnIkSa+++mqbzguMz87ODjkeSGj69OkTfXBtcNttt8nptP5xvvnmm5tssbt7927dfPPNkqzk6LbbbrM1PgCxVZiXpRx3WktzBspxp6kwL8vOsNovf7x0yRzJlRN63JVrHacPCADABrZMIZx55pl64okn9M477+ixxx7TDTfc0Oo5jz32mN555x0ZhtGkk/rXX38tSerXr1/EMXz00UdavXp18Ptt27YFv169erVmz54dMn7y5MlNrnH44Yfr17/+te6//359+umnOvnkk3XHHXdoyJAhWrNmjaZPn67PP/9ckvTrX/9ahx12WMTxAUg+ToehqePyNWXuchkK3cA2kJRMHZcvp6MDzXTmj5eGnUcndABAwhhmw85/cVJWVqYRI0bI57P2l7/88st122236fjjj28y9rPPPtODDz6o559/XqZpKiUlRZ999pkKCgqCYwoKCrRy5UrdcMMNeuSRRyKKYfLkySHF7K0J92Px+/267rrr9OSTT4Y999prr9Xjjz8eccF9gNfrldvtVk1NDVvyAkmkpMyjacXlIQXpOe40TR2Xr6KCnBbOBAB0NtyvRc+WGZCCggL97//+r2677TYZhqHnnntOzz33nDIzM5WXl6f09HTt2rVLFRUVqq2tlXQgAXjggQdCko/S0lKVl5dLks477zw7wg/hcDj0xBNP6Kc//akef/xxffLJJ9q2bZv69u2rE088UTfccIPOOecc2+MCED9FBTkam5+t0ooqba2tU79Ma9lVh5r5AAAgSdgyAxIwd+5c3Xrrrdq+ffuBABoUaTcMpXfv3vq///s/XXHFFSHXqKurCzb6y8rK6lRF3mTUAAAAyY37tejZmoBI0vbt2/XUU09pwYIF+uyzz7Rr167gY+np6Tr++OM1YcIEXX311erdu7edoSUcv9AAAADJjfu16NmegDRkmqZqamq0c+dO9ezZU263u1PNaLQVv9AAAADJjfu16NnXSKMZhmGoV69e6tWrVyLDAAAAAGCThCYgAIAk5fexVS8AIC4SkoB4PB699957Ki8vV1VVlerr6/XEE08kIhQAQGPlC6WSOyTvpgPHXLlWJ3WaFQIAomRrDUhlZaVuv/12zZs3L9gTxDRNGYYR/D7gxhtv1JNPPqlBgwZpzZo1doWYUKwpBJBw5Qul+ZMU2nZRCrZepGM6gC6O+7Xota1TXhQqKip03HHH6dlnn9W+fftkmmbYZn+SNGXKFO3bt09r167VBx98YFeYANB1+X3WzEeT5EMHjpXcaY0DAKCdbElAfD6fxo8frw0bNsg0TV1++eV6++239be//S3sOcOHD9fhhx8uSXr77bftCBMAouLzm1q6plILVmzU0jWV8vkTtslg+6xbErrsqglT8m60xgEA0E621IDMmTNHX3/9tQzD0IwZM3TzzTdLUkgPkOacfvrp+uabb/Txxx/bESYAtFtJmUfTisvlqakLHstxp2nquHwVFeQkMLI22LEltuMAAGiGLTMgL7/8siTplFNOCSYfkSgoKJAkffPNN3GJCwBioaTMoylzl4ckH5K0uaZOU+YuV0mZJ0GRtVFG/9iOAwCgGbYkIJ9//rkMw9CFF17YpvP69u0rySpeB4Bk5PObmlZc3lLVhKYVl3eM5ViDR1u7XSlcQ1hDcg2wxgEA0E62JCCBBGLgwIFtOs/hsMLz+/0xjwkAYqG0oqrJzEdDpiRPTZ1KK6rsC6q9HE5rq11JTZOQ/d8X3U8/EABAVGxJQHr27Cmp9ZqPxjwea9lCVlZWzGMCgFjYWhs++WjPuITLH29ttetqVLfiymULXgBATNhShD5o0CBVV1fryy+/bNN5H374oSTpsMMOi0dYABC1fplpMR2XFPLHS8POoxM6ACAubJkBOe2002SapubNm6e9e/dGdE5FRYUWLlwowzB0+umnxzlCAGifwrws5bjTWqqaUI47TYV5HWwm1+GU8sZIR19kfSb5AADEiC0JyNVXXy3DMLRp0ybdeuutrY6vqqrSxRdfrPr6enXr1k3XXHONDVECQNs5HYamjsuXFLZqQlPH5cvpCJeiAADQtdiSgAwfPlyTJ0+WaZp6/PHHVVRUpHfffVe1tbXBMbt27dKqVav04IMPavjw4cGds2699VYNGjTIjjABoF2KCnI0c+IIZbtDl1llu9M0c+KIjtMHBAAAGximadqyN+TevXt19tln6/3335dhtPxOYCCks88+W6+//rqczq4x9e/1euV2u1VTUyOXy5XocAC0kc9vqrSiSltr69Qv01p2xcwHAHQu3K9Fz5YZEEnq3r273n33Xd1xxx1KTU2VaZrBD0kh36empurXv/51l0o+AHR8ToehUUP6aMKxAzRqSB+SDwAAmmHbDEhDP/zwg1544QV98MEHWrt2raqrq5WRkaGBAwfq1FNP1aWXXqoBAwbYHVbCkVED6JD8PnbMAtBlcL8WvYQkIGgev9AAOpzyhVLJHZJ304FjrlyroSE9QwB0QtyvRc+2JVgAgE6mfKE0f1Jo8iFJXo91vHxhYuICACQ1EhAASACf39TSNZVasGKjlq6plM/fwSaj/T5r5kPNxb3/WMmd1jgAABqwpRM6AOCAkjKPphWXy1NTFzyW407T1HH5HWfL3nVLms58hDAl70ZrXN4Y28ICACS/mCYgZ5xxRiwvF2QYht577724XBsA7FRS5tGUucubzBtsrqnTlLnLO07fkB1bYjsOANBlxDQBWbx4cas9PtrKNM2YXxMAEsHnNzWtuDzsoiVD0rTico3Nz07+LXwz+sd2HACgy4h5DUjDfh7NfUQyruEYAOgsSiuqQpZdNWZK8tTUqbSiyr6g2mvwaGu3K4VLlAzJNcAaBwBAAzFNQPx+f9iP6upqXXjhhTJNU4MGDdL06dP16aefqrq6WvX19aqurtann36q6dOna/DgwTJNUz/96U9VU1Mjn48iRgAd39ba8MlHe8YllMNpbbUrqWkSsv/7ovvpBwIAaMKWInS/368JEybogw8+0CWXXKKnnnpKPXr0CBnjcrk0YsQIjRgxQjfffLOuvvpqzZ8/X1VVVXr33XdZhgWgw+uXmRbTcQmXP166ZE6YPiD30wcEANAsWxoR/uMf/9D111+vYcOG6csvv1S3bq3nPfX19TrmmGP0zTff6PHHH9e1114b7zATjsY2QOfm85s6Zfoiba6pa7YOxJCU7U7TR3eckfw1IA3RCR1AF8L9WvRs6QMyd+5cGYahq666KqLkQ5JSUlJ09dVXyzRNPfPMM3GOEADiz+kwNHVcvqSwi5Y0dVx+x0o+JCvZyBsjHX2R9ZnkAwDQAlsSkFWrVkmSDj300Dadl5eXF3I+AHR0RQU5mjlxhLLdocusst1pHWcLXgAAomBLDUhNTY0kqbKysk3nBcZ7vd6YxwQAiVJUkKOx+dkqrajS1to69ctMU2FeVseb+QAAoB1smQHJybHe0Xv55ZfbdF5gfHZ2dsxjAoBEcjoMjRrSRxOOHaBRQ/qQfAAAugxbEpCzzjpLpmlq0aJFevjhhyM655FHHtF7770nwzA0duzYOEcIALCN3ydVfCh99ZL12c9W6wDQldiyC9aqVat07LHHqr6+XpJ08cUX65e//KUKCwubjP3kk0/017/+VfPnz5dpmkpNTdWKFSt0xBFHxDvMhGNXBQCdXvnCMNv2TmfbXgAdAvdr0bMlAZGsrXhvuOGGkGMZGRk69NBDlZ6erl27dum7777Tjh07JFld0A3D6DJb8Er8QgPo5MoXSvMnSU02Id6//OySOSQhAJIe92vRsy0BkaRXXnlFU6ZM0Q8//HAggAYNBhuGctBBB2nmzJm68MIL7Qov4fiFBtBp+X3SjILQmY8QhjUTcttXbOMLIKlxvxY9W2pAAi688EJ9++23mjFjhk499VT17NlTpmkGP3r27KnTTjtNDz30kL799tsulXwAQGt8flNL11RqwYqNWrqmUj6/be8fRW/dkhaSD0kyJe9GaxwAoFOzZRvehlwul2655Rbdcsstkqwtenfs2KGMjAy53W67wwGADqGkzKNpxeXy1NQFj+W40zR1XH7H6B2yY0tsxwEAOixbZ0Ca43a7NWDAAJIPAAijpMyjKXOXhyQfkrS5pk5T5i5XSZknQZG1QUb/2I4DAHRYCU9AAADh+fymphWXNynblg6Uck8rLk/+5ViDR1s1HgrX78SQXAOscQCATo0EBACSWGlFVZOZj4ZMSZ6aOpVWVNkXVHs4nNZWu5KaJiH7vy+6nwJ0AOgCYpqA/PrXv1ZNTU0sL9nE1q1bddttt8X1OQAgWWytDZ98tGdcQuWPt7badTWqWXHlsgUvAHQhMd2G1+FwKCsrSzfffLNuueUW9e7dO1aXVmVlpf785z/r73//u3bv3i2fr/N1zmVbNwCNLV1TqctmLWt13PPXjdSoIX1siCgG/D5rt6sdW6yaj8GjmfkA0GFwvxa9mM6AHHHEEaqqqtLvf/97DRw4UFdffbX+9a9/qb05js/n08KFC3XRRRdp4MCB+t///V/t2rWrS3RFBwBJKszLUo47raXKCeW401SYl2VnWNFxOKW8MdLRF1mfST4AoEuJ6QzIvn379Ne//lV/+tOfVFNTE2wy2KdPH5188skaOXKkTjrpJA0bNkxZWVnq3r178Ny9e/eqqqpKK1eu1Mcff6yPP/5YH330kaqqrHXNpmnK7Xbr7rvv1u23365u3WzfQTjuyKgBNCewC5YU2kM8kJTMnDiiY2zFCwCdAPdr0YtLJ/Tt27frL3/5ix599FFVV1dbT2Q0ff8uPT1dmZmZ8nq92r17d5PHA6H17t1bN910k371q1+pV69esQ43afALDSCcDt8HBAA6Ce7XoheXBCRg586dmjt3rp5++mktW9b8GmbDMJpdomUYhk4++WRNmjRJl19+udLT0+MVZtLgFxpAS3x+U6UVVdpaW6d+mdayK6cj3OKsToSaEQBJhPu16MU1AWlo8+bNevvtt/Xxxx/rq6++0tq1a1VVVaU9e/YoNTVVffr0UV5eno4++miNHDlSP/7xj9WvXz87Qksa/EIDQCPlC6WSOyTvpgPHXLnWlr7smgUgAbhfi55tCQhaxy80gHjrULMo5Qul+ZOkJm0Y98fL1r0AEoD7teh1vkpuAECzOlQdid9nzXyE7QFvSCV3SsPOYzkWAHQwdEIHgC4gsJNW467qm2vqNGXucpWUeRIUWRjrloQuu2rClLwbrXEAgA6FBAQAOjmf39S04vKwcwmSNK24XD5/Eq3I3bEltuMAAEmDBAQAOrnSiqomMx8NmZI8NXUqraiyL6jWZPSP7TgAQNIgAQGATm5rbfjkoz3jbDF4tLXbVUs94F0DrHEAgA6FBAQAOrl+mWkxHWcLh9PaaldS0yRk//dF91OADgAdEAkIAHRyhXlZynGntTSXoBy3tSVvUskfb22162q0Q5crly14AaADYxteAOjknA5DU8fla8rc5TIUurFtICmZOi4/OfuB5I+3ttqlEzoAdBrMgABAF1BUkKOZE0co2x26zCrbnaaZE0ckXx+QhhxOKW+MdPRF1meSDwDo0JgBAYAuoqggR2PzsztOJ3QAQKdEAgIAXYjTYWjUkD6JDgMA0IWRgAAAOja/jxoRAOhASEAAAB1X+UKp5A7Ju+nAMVeutYUvu2QBQFKyvQi9urpaf/nLX3TWWWcpNzdXaWlp6tataR60aNEiPffcc/rnP/9pd4gAgI6gfKE0f1Jo8iFJXo91vHxhYuICALTI1hmQF154QTfccINqa2slSaZpbQZpGE0LIL/44gv96le/Uo8ePeTxeORyuewMFQCQzPw+a+YjZFPhAFOSIZXcaW3hy3IsAEgqts2AzJkzR5dffrm8Xq9M01R2drYOP/zwsOMnT56sbt26qa6uTsXFxXaFCQDYz+c3tXRNpRas2Kilayrl8zd3s58g65Y0nfkIYUrejdY4AEBSsSUB2bRpk2688UaZpqnc3Fz985//1MaNGzV9+vSw5/Tu3Vs/+tGPJFnLsQAA9ikp8+iU6Yt02axlunXeCl02a5lOmb5IJWWeRIdm2bEltuPayu+TKj6UvnrJ+uz32XMuAHQCtizB+tvf/qa6ujr16NFD7733no444oiIzissLNSiRYv0xRdfxDlCAEBASZlHU+Yub7K4aXNNnabMXZ4cjQsz+kc3Lpqds6IpfI+2aL69cbNTGIAkYksC8s9//lOGYejyyy+POPmQpKFDh0qS1q5dG6fIAAAN+fymphWXt1RZoWnF5Rqbn53YBoaDR1s37l6Pmq8DMazHB49u+lC0CcT8SU2fM1D4fsmc8NeI5txo4manMABJxpYlWBUVFZKkU045pU3nud1uSQoWrQMA4qu0okqemrqwj5uSPDV1Kq2osi+o5jic1g20JCstamj/90X3N32XP5qds1otfJdV+N7ckqpozo0m7vaexzIxAHFkSwKyc+dOSVJGRkabztu9e7ckKS0tLeYxAQCa2lobPvloz7i4yh9vzRq4Gi0Hc+U2P5sQbRIQTeF7NOe2N+72nle+UJpRID19vvTytdbnGQVsawwgZmxZgtWnTx9t3rxZW7a0rRjw22+/lSQddNBB8QgLANBIv8zI3vCJdFzc5Y+3ttqNpL6hLUlA3pimD0dT+B7Nue2Nuz3nRbtMDAAiYMsMSH5+viTpgw8+aNN5xcXFMgxDxx9/fDzCAgA0UpiXpRx3WpNFTQGGpBx3mgrzsuwMq2UOp3UDffRF1udwxdXR7pwVTeF7NOe2N+62nhftDBEARMiWBOScc86RaZpasGBBcFajNfPmzdOKFSskSeeee24cowMABDgdhqaOs940ClNZoanj8iMqQI9lH5FYXMvXs19kA8MkC75Bo7QnPVtmS+mZa0Dzhe+DR8t05bbv3PYmL209j94qAGxiSwLy85//XFlZWdq7d6/Gjx8fLEoP54UXXtB1110nwzCUm5uryy+/3I4wAQCSigpyNHPiCGW7Q5dZZbvTIt6CN5Z9RGJxrZIyj340r06bzCyFz13CJwElZR6d8pf3dUv1pTJNs5lrtFD4LqmkfKvu2jWxXecGdvwKl7yY4eIO7BQWadKT6N4qALoMW2pAXC6XZs6cqUsvvVTffPONCgoK9JOf/ESpqanBMX//+9+1fv16lZSU6KuvvpJpmnI6nXryySeVkpJiR5gAgP2KCnI0Nj9bpRVV2lpbp36Z1rKrSGY+YtlHJBbXaniNaY5JmpkyQ35TCn0p4ZOAhud7VKgp9bdpasoc5arBTmCuXOvcZuojDpx/rLY7mp67u0d/9Rj3l/C1FQ6nPj/qTg1fcotMhcZtJTOmVhx1h45rnLwEdgqbP2n/62v4U2zm9UY6Y7Jji7UMiz4iANrJME2z/XPibTRr1izdfPPN2rt3rwwj/D9ipmmqe/fueuyxx3TVVVfZFV7Ceb1eud1u1dTUyOVyJTocAGgzn9/UKdMXhd3K15A1k/LRHWe0mszE4lrNXeNsR6mVBBgHkgDTNUBGMwlEuBgc8qvQsUr9VK19Pfvp4Tv+n5zdmr6n19z5Dc/dql5anzFcH9w5ttXXcEztB03i3mT20e/rr9QXmT8K/3Notg/IgKYJk99n7XYVtrdKA/QRQRfG/Vr0bJkBCbjuuus0cuRITZ06VQsXLpTf728yxjAMnXvuubrvvvs0fPhwO8MDAESpLX1ERg3pE/drNXeNt/2FemfPCSFJwK3jrtKow5rWiISLwS+HlvmtWhnVSleuq2k2hubODzlXkrz1Eb0Gj5rGXeofJr8cUks/h0h3CmtxxqQRr0eaf6V00hSp1yCp50FSZg4d1gFExNYERJKOPvpovfLKK6qpqdG///1vrV27VtXV1crIyNDAgQM1ZswYtt0FgA4qln1EYnGtcI81TgIu21kflxhi/RqaJC+RPldgp7DWBHqrNJ4xaWJ/cvLxzNDD6X2l8x6Qjrqg9ecC0GXZnoAEuN1udrcCgE4mln1EYnGtaK+R6PNjdY02CcyYfPyo9PbdbTt31zbpxaukjbdIP/5DbOIB0OnYsgsWAKBriGUfkVhcK9prJPr8aK4R1dbFDmfkRenNWfJ/Utlr7T8fQKdGAgIAiJlY9hGJxbWivUaiz2/vNWKyDXI0CYgkLZgi7dsb3TUAdEox3QXr+++/j9Wlmjj44IPjdu1kwa4KADqLkjKPphWXhxRg57jTNHVcfsRb8MbyWtFeI9Hnt+Ua4bYuDqQnEW+D3JZdscLpniFdMJPdstCpcL8WvZgmIA6Ho8XtddvLMAzt27cv5tdNNvxCA+hMfH6zXX1E4nWtaK+R6PMjuUZbti6WFLxWVnp3rdrs1frtuzU4K11XjjpE3bs5rC1850/af3YUtwuXPEMSgk6D+7XoxTwBiQfDMOTz+eJy7WTCLzQAIBpL11TqslnLWh13+1mHad4n68MmKg5Dum5Mnu46N7/5PiJt5Rog3fYVW/SiU+B+LXox3QWrtaaB69at0+LFiyVZyUp+fr6GDh2qnj17aufOnVq9erVWrlwpn88nwzB02mmndYmlVwAAxEKk2/4++O63LT7uN6XHPqiQJN11boM+Iv95U1r2SNsD8260zo9kK2AAnZ5tndD/9a9/6aKLLpLX69Xtt9+uX/7yl8rOzm4ybvPmzXrwwQf14IMPyuVy6aWXXtJpp51mR4gJR0YNAIhGpDMgkXIY0qo/nGMtxwpo74zIyJukoj/FLDYgUbhfi54tCciGDRt07LHHavv27XrxxRd14YUXtnrOq6++qp/+9Kfq27evPv/8cw0YMCDeYSYcv9AAgGgEakA219RFU7ERYtShvfX89aNDD/p90tqPpOcvlep3RXah9L7Sf33DMix0eNyvRc+WbXgffvhhVVVV6YILLogo+ZCkn/zkJ/rJT36iyspKPfzww3GOEACABPD7pIoPpa9ektYslr573/q64kPrsTaKZMvetlr63Xb94rnloX1EHE7p0FOlnzwW+YV2bbOWYQHo8mxJQF5//XUZhtHmzufnnnuuTNNUcXFxnCIDAMBGDROOxdOtbW6fPl96+VrpmQnSnPHW10+fbz1WvrDNT1FUkKOZE0co2x3aGT3bnabbzzq8XWG//qVHo//0btM+IvnjrR2uuveM7EI7trTr+QF0LjEtQg9n/fr1kqTMzMw2nRcYHzgfAIAOq621E95N0vwrpdPuln70X9axdUusm/iM/tLg0WGXMxUV5GhsfnaTLXslad4n37dridaW2r2aMnd50z4i+eOlVJeVQLUm2uaGADoFWxKQwPa8K1eubNN5q1atCjkfAIAOKdhPox2VGYv/KH08U5Ih7a46cNyVKxVNP7BDVaPExOkwNGpInyaXmzouX1PmLpfRvmg0rbhcY/OzQ3uY7K5u/UTXACs2AF2eLXf2hx9+uEzT1JNPPqmdO3dGdM7OnTv1xBNPyDAMHXbYYXGOEACAOPH7rJmPaMrCd28PTT4kq0P5/Culvww9sIwrgqVb4ZZoRcKU5KmpU2lFg1j8Pumfd7V+8tl/pAAdgCSbZkAuuugiffrpp9qwYYPOP/98zZ8/XwcddFDY8T/88IMuvfRSrV+/XoZh6Gc/+5kdYQIAEFZzXcilA93E+/ZMlQxp2449oV3K134UXRO/sPYnNOESk9PulvoMaXa5VsMlWp7q3frli1+06ZlD+o2sWxLZ60tvOhsDoGuyJQG55ZZbNGvWLH333Xf64IMPdNhhh+nyyy/XmWeeqaFDhyo9PV27du3S6tWrtWjRIj333HPyer2SpKFDh+rmm2+2I0wAAJpVUubRtOLykM7hvdJTJEnVu+qbPSfHnaZHRmzQcSvusSXGA/YnJov/eOBQYLlW/vjgoYZLtP6zxRtsPBiJfpkNZk8iLSynAB3AfrYkIGlpaXr77bd1xhln6Pvvv1dtba0ee+wxPfZY89v3BVqTHHzwwSopKVFqaqodYQIA0ERJmUdT5i5vsoAqXOIRMLz2Aw1fMkOm0f4tcGOmcUF7o6VQd51rbd0768MK+VtZKdY7PSU4+yNJqlwTWQwUoAPYz7bq7kMPPVRffPGFrrvuOqWkpMg0zbAf3bt31/XXX68vvvhCeXl5doUIAIAka7nV0jWVenX5Bt39almbqzcc8uuelDmSkiD5aGjxH8PWiNx1br6+nlaktJSWbw1CfhZ+n/TZU60/LwXoABqwZQYkwO1267HHHtN9992nN954Q6Wlpdq0aZN27NihjIwMDRgwQIWFhTr33HPVt29fO0MDAEBS88ut2qrQsUq5RlWr40wlIEHxbrJ25LpkTsiSLElasb5adfX+Fk+v3lWv0ooqjcrrJX38qFTraXG8JGnEVRSgAwiyNQEJ6Nu3r6666ipdddVViXh6AACaFW65VVv1U3VE46rNnnpyX5HWmTn6QS6daKzS7d1ekSmp4S63+1cmy4hltlJyp7WFb4PEIKS4vAXO/xRLC6ZHXlzfZ0h7IgTQSSUkAQEAINn4/KamFZdHnXxI0g9yRTTupvpbtdRfEPx+qQr0H/NgTU2Zo1wdmEHZrgxJUpZ2BI/Vd++lbnurZbSro4cpeTdaO1jljQke7ZvRes3l2Y5SnVj6UNuek/oPAA2QgAAAIGs73WiWXQWc7SjV1JSnWxzjN6XN6qOP/flNHnvbX6h39pygQscq9VO1tqqXSv3DJCn0WN0wXZLxpaamzFGP3ZvbF2zF+6Fb9IbJKRzyq9CxSv1VpXtSngk/sAnD2oGL+g8ADZCAAAC6rIa9Pb7dsqP1E1pxtqNUM1NmtDgmsMvUtPor5Q+zF4xfDi1rJjlpfGzejmM1X8fozyfs0IWHd5Oj6jtp8Z8UcYLwwV+kFc8Gt+jdumNPkyFWQjUnopqWUPvXixXdT/0HgBCGGdjzNo4OPfTQqM43DENr1kS4zV8H5vV65Xa7VVNTI5crsul7AED7RFts3rgPiEN+fZR6i7JVFVK/0dgmM0vT6ifpbX9hu543nGxXmu4dn68ixyfSW7+JrDhcUiBR+HzUQ7ru434aWlcWnGXprVr9PeUhSWrxNTXLNcBKPhoVugMdHfdr0bMlAXE4HDIMQ609lbG/uq7xOMMw5PP54hZfsuAXGgDs0d5i86yeKfrd+Ucp29W0E/qhOz7X0e9e0eo1Ltt7t5b6C+QwrOLyWP4jbEiaOXGEivL7SR/8b2gzwhaYMrTd7Kk96q6cBjMdPtOQQ2bbi9/P/qN00o3MfKBT4n4terYswTr44IODyUU4Pp9PVVVV2rVrlyQr6cjNzVW3bqwSAwDETnuKzQP/gv3xJ0erqCAn5LFAN3F9tTSiax0krwxJ143J0+MfVLSrhLwl04rLNTY/W87T7pD6HSmV3NHqblWGTGUZO9T4fUKn0dbI9td8kHwAaIEtd/dr166NeOyKFSv0wAMP6Nlnn9Vhhx2mV155Rb169YpbbACArqU9xebZ7jRNHZffJPkIEeFOT/t69tPMCSNUVJCj4w7u3WQZWOOlXW1hSvLU1Fl9Oob0sZY/DTtP+tefpA//0ur50W3zS80HgMgk3fTCscceq2eeeUbHH3+8fvnLX+rCCy/Ue++91+oMCgAALQkUnL9VFlltxC9OH6LD+meqX6a13MrZWhHE4NHWu/9ej5qb0zBlaG96th7+5f+Tc//sflFBjsbmZweXcQWeSzqwtKtvz1T96sUvtMVbF/FMydbaupAC+6Fpx+moCM9tN1cuNR8AIpJ0CUjAbbfdpvnz5+v999/X008/rcmTJyc6JEmKOBE69dRTtXjx4vgGAwCISHsKzk8eetCB5VWRcDilgoukJf/X7MOGpNTz/yw1WlrsdBjNPk/DY/eOz9eUucsjDmXttl06Zfqi4Ot1yK+laX3UT1UyYrngK72vVPQnKTMndDtfAGhB8/v/JYmLL75Ypmnq6adb3k8dAIBwAgXnkSYfhqQc94GZiIiVL5SWPBz+8dE3t3t2oKggRzMnjlC2q+VGgYasJVwz3v0m5PX65dDUvVfKNM0m6Ye/XfmIYX2c/6B0zCVWM0OSDwARStoZEEkaNGiQJKm8vDzBkTQ1ZcoU3XTTTWEf79mzp43RAACa09aC88Ac99Rx+a0vuWrI77OKvVt6prKXpbPubfeNemC51t8WrdaD737T5PGGxezNRVHiL9SU+tt0b8qckJ2uNitLaeZe9dKOZrfa9ZuSDIcc8h84yHIrAFFI6gRk+/btkqztzpJNv379VFBQkOgwAAAtaGvBeUTF5s1Zt6TVnabk3WiNyxvTtms34HQYuvWsw3REdkaTJWXZ7jRdeuIgPfjut2HPD9dlfazjU81MmSG/Gdrvw29ahenGRU9JPftIO7ZYxfYstwIQhaROQF588UVJUv/+ke0sAgBAQ1trI0s+Jo0arHMKciIrNm/Oji2xHdeKcMXrr3/ZShKk5rusv71/dmRqyhzl6sDsyFajjw66+EE5j5oQk7gBQErSBGTHjh2666679O6778owDJ166qmJDgkA0AH1y0yLaNw5BTltKzhvLMIteCMeF4Hmitcjfb3NaW52ZPJll6noqIHRhgoAIWxJQK655pqIxu3du1cbN25UaWmp6uqsd62cTqf+67/+K57hAQA6qcK8LOW407S5pvktbA1ZS5faXHDeWCtb8AYb9A0eHd3ztKK11yupxQ7sgdmRnPYuRQOACBim2bjvaew5HI429fEIhJSWlqZZs2bpiiuuiFdobRZ4Hfn5+TJNU2vXrpXT6VR2drZGjx6tyZMn6/TTT2/Xtb1er9xut2pqauRyuWIZNgB0ST6/2WLRtiTNnDgiNjfa5Qul+ZP2f9Pwn9b9z3TJHFuKtgO7foWJQtf/yOrA3vjxgNvPOky/OOOw9i1FA7oA7teiZ1sC0haHHnqozjnnHN16660aOnRonKJqn0gSqQsuuECzZ8+W2+1u07X5hQaA2Gmt90dc3uUvX2jthtWwIN01wPYdo5p77Q1fb2uPAwiP+7Xo2ZKArFu3LqJxqamp6tWrl9LS2r+GNd569uyp8ePH68wzz9SwYcOUkZGhH374Qe+//74effRRVVZWSrIaEb7zzjtKSUkJe609e/Zoz549we+9Xq8GDRrELzQARCkwCxDuH7i4vsvv91m7XSV4x6iGndCb6+be2uMAmkcCEj1bEpDOpLq6Wr169Wr2sS1btuicc87R559/Lkl66KGHdMstt4S91r333qtp06Y1Oc4vNAC0n89vhnQBbyxQ9/HRHWfE74Y7SZIQALFHAhI9EpAY++677zRs2DDV19dr6NCh+vbb8PuxMwMCALG3dE2lLpu1rNVxz183Mrqdr8JpdhlWrlQ0ncZ9QCdAAhK9thVntNPvf/97/f73v9c33zQtAmzJmjVrgud2FIceeqjGjh0rSVq9erU2bQq/J3tqaqpcLlfIBwAgOpH2/oh0XJsECtEbNyX0eqzj5Qtj/5wA0MHYkoAElhqtWrWqTeetXr067DKlZJaff6DB08aNGxMYCQB0PZH2woimZ0az/D5r5qPZypP9x0rutMYBQBdmSwLS1bRly2EAQGwFemGE+0tsyNrxKereH42tW9J05iOEKXk3WuMAoAtL6gTE7/dLavs2volWXl4e/Do3NzeBkQBA1+N0GJo6zpqJbpyEBL6fOi4/9gXoO7bEdhwAdFJJfWcfWL6UmZmZ4EgiV1FRoXfeeUeSNGTIEA0YMCDBEQFA11NUkKOZE0co2x26zCrbnRa7xoONZfSP7TgA6KS6JTqAcDZs2KBHH31UknTYYYclOBpLcXGxzjnnHHXr1vyPbcuWLfrpT3+qvXv3SpJuuukmO8MDADRQVJCjsfnZ9vW6GDza2u3K61HzdSCG9fjg0fF5fgDoIGKegDz00EN66KGHmn3s+uuv12233dbi+aZpaufOncGGfoZh6Nxzz411mO1y8803q76+Xj/96U81atQoHXLIIerRo4e2bdumxYsX67HHHtO2bdskSaeccor+3//7fwmOGAC6NqfDiM9Wu81xOK2tdudPkrXYq2ESsj/pKbqffiAAuryYJyDV1dVau3atDMNQwxYjpmlq69atbb7ekUceqV/+8pexDDEqmzZt0sMPP6yHH3447Jif/vSn+sc//qHU1FQbIwMAJFz+eOmSOWH6gNxPHxAAUBwSkF69emnw4MEhx9atWyfDMNS3b1+lp6e3eL7D4VBGRoby8vJ01lln6Zprrmn1HLs8/fTTev/997V06VJ999132rZtm7xerzIyMjRo0CCNHj1aV111lUaNGpXoUAEAiZI/Xhp2Hp3QASAMWzqhOxwOGYahV199VePH8+5POHTWBAAASG7cr0XPliL0gw8+WIZhJM1MBgAAAIDEsCUBWbt2rR1PAwBACJ/ftG8XLABARJJ2G14AAKJRUubRtOJyeWrqgsdy3GmaOi4/Pn1AAAARSepGhAAAtEdJmUdT5i4PST4kaXNNnabMXa6SMk+CIgMAxHQGZM6cOcGvJ02a1Ozx9mp4PQAAwvH5TU0rLm+2FaApqyPHtOJyjc3PZjkWACRATHfBCux2ZRiG9u3b1+R4ezW+XmfFrgoAEL2layp12axlrY57/rqR8WtS6PexDS/QSXG/Fr2Y14CEy2ds2O0XAABtra1rfVAbxrVZ+cIwjQin04gQABTjBOSpp55q03EAAGKtX2ZaTMe1SflCaf4kqfECMK/HOn7JHJIQAF2eLY0IERmm9AAgej6/qVOmL9Lmmrpm60AMSdnuNH10xxmxrQHx+6QZBaEzH42f2ZUr3fYVy7GADoz7teixCxYAoFNxOgxNHZcvyUo2Ggp8P3VcfuwL0NctaSH5kCRT8m60xgFAF0YCAgDodIoKcjRz4ghlu0OXWWW70zRz4oj49AHZsSW24wCgk7KlEaHD4ZDD4dArr7yi8eMjX/v69ttv69xzz+0yu2ABAGKnqCBHY/Oz7euEntE/tuMAoJOyrRN6e0tNKFEBALSX02HEb6vdxgaPtmo8vB41KUKXFKwBGTzanngAIEmxBAsAgFhwOK2tdiWFrT4pup8CdABdXlInILt27ZIkpaXFYatEAECX4vObWrqmUgtWbNTSNZXy+eMww54/3tpq19WoxsSVyxa8ALCfbUuw2mPZMquTbb9+/RIcCQCgIysp82hacbk8NQeaD+a40zR1XH7sC9Lzx0vDzqMTOgCEEfME5Msvv9SKFSuafWzRokWqrq5u8XzTNLVz504tX75cc+fOlWEYOvHEE2MdJgCgiygp82jK3OVNqjI219Rpytzl8dkVy+GU8sbE9podkM9vRrUJQLTnA0hOMU9AXn31Vf3+979vctw0TT388MNtupZpmjIMQzfeeGOswgMAdCE+v6lpxeXNloSbsiozphWXa2x+Nje2MRbtrJOts1YAbBWXGhDTNEM+wh1v7aN///6aNWuWzjjjjHiECQDo5EorqkJuYBszJXlq6lRaURXbJ/b7pIoPpa9esj77fbG9fpILzDo1/tkHZp1KyjztPv//zf1UpYte67I/W6AziPkMyAUXXKBDDjkk5NjVV18twzD0i1/8QiNGjGjxfIfDoYyMDOXl5enoo4+W08maWQBA+2ytDZ98tGdcRMoXSiV3hHZFd+VaO2R1oCL09i5/inbWqaXzf+wo1dSUOcr9oEHC2MLPtslrGOyWc/1SanOABIt5AjJ8+HANHz485NjVV18tSTrzzDPb1IgQAIBo9MuMbBfFSMe1qnyhNH+SmvQB8Xqs4x1kJ6xolj+1NutkyK/Btcu1ZtH3OnzI0CZJQLjzz3aUambKjKYXDPOzbfwaznaU6tDuz6i/Kg+c2wETQ6AzsGUXrKeeekqSWp39AAAglgrzspTjTtPmmrpwrQGV7bbe3Y+a32fNfLT03n/JndYOWTF81z3WhdrRFu23NJt0dmAGw6iSPpL10SgJaO58h/yamjLH+rrJS2v6s238GoLJS2AKJqCDJYZAZ2FLAnLVVVfZ8TQAAIRwOgxNHZevKXOXy1BoahC4D506Lj82BejrloQuu2rClLwbrXEx2iEr1oXasSjaDzebFOkMRnPnFzpWWUlLWAd+tr7Bp4S8hrYmLwDiL6kbEQIAEK2ighzNnDhC2e7QG9tsd1pst+DdsSW241oRbaF3cyJfPjU7bAF4YNap4b1+60mArCTA72v2/H6qjuwF7NjS5DUEkpfwOWaDxBCALZK6ESEAALFQVJCjsfnZTZYqSdLSNZWxWb6U0T+241oQr+2Fo10+JTU/69SWGQxn3pgm529Vr8heQEZ/bW2UQLUleQnh99FMEogT2xOQJUuW6Omnn9ayZcu0YcMGeb1e+f3+Fs8xDEP79u2zKUIAQGfkdBgaNaRP8PuY95kYPNq6Ifd61HwdiGE9Pnh026/dSFu2F274mlsT7fKpgMCsU+Dn29YkoPH5pf5h2mRmKduoCrN048DPtl9F6HO1JXkJ6iQ7mQHJyrYEZNeuXbrmmmv04osvSlJIfxAAAOwUl+7oDqd1gzp/khSu4qTo/pi8ix6v7YWbK9pvbw1Fw1kn33d7pX9HEECDJKDxrFXt9v9Rzvv/r8HzBoT+bBu/hmDyonDLsBolhp1kJzMgmdlWA3LFFVfoxRdflGmaSk9P18iRIyVZsxtHHXWUTjjhBPXt2zc43jAMnXDCCTr11FP1ox/9yK4wAQCdXGvLlyRr+ZLP3443yvLHWzeorkbJiys3pjeu8dpeOLB8SjpQpB9NDUVg1umUM8dbPwOFu4ghuQY0mR0KnD/h2AE64vQrZETws238GvxyaFr9JElS0/+kjRLDVncyU7BWBUD72ZKAvPvuu1qwYIEkq1Hhpk2btGTJgT9U9913n0pLS7V161Z9/PHHKioqkmma2rNnj2bPnq1//etfdoQJAOgC4t4dPX+8dFuZdNXr0k+fsD7f9lVM3zVvrlC7IUPWcrL2bC/cuGi/3TUUDQVmh4LRNdSG2aEIf7aNX8Pb/kJNqb9NPxiNlqM1TgzbspMZgHazZQnWnDnW1G1OTo6ee+45paWFf0fmxBNP1Jtvvqnbb79dDz30kC644AJ9/PHH6t69ux2hAgA6Obu7o/tMU6VrKrV1Z31M+nRI8d9eONrlU80KzA41W1txf+QJmsMZ0TbGTTceGKm+g38ntdQJ3eadzICuypYEZNmyZTIMQz/72c+aTT6aqwd54IEH9Pbbb+vLL7/Uk08+qRtvvNGOUAEAnVzcu6M3KmB2ShpsZml2/SS97S+MrtC9gcaF2gHZgevn97O2ym3nLk7Bov288dJXMSquzx9v1YrYtLtU440HJLWcvES4Q1npD91UGEVcQFdnyxKszZs3S5KOOeaYkOOGYb0zs2fPnibnOBwOTZw4UaZpav78+fEPEgDQJcRz+VKwgLnRMp5sVWlmygyd7SiNqk9HY0UFOfrojjP0/HUj9dClx+r560bqozvOUJHjE2lGgfT0+dLL11qfZxRY8bVVrJZPNbxe3hjp6Iusz8m0tW1gJ7Mwvx1+U9pk9tFl/3TG5L8f0FXZkoDU1VnvzLhcrpDjPXv2lCRt37692fOGDh0qSfrPf/4Tx+gAAF1Jc4XWAVEtX2qhgDlwqakpz8iQtfV8uwvdG2lYqD1qSB85VxU3mwQFd3FqTxJiU3F9wu1PtkxJjRsEBP5TTau/Un459N+vlunV5Ru0dE1lTP47Al2JLQlIr169JFlb8TbUp481Lbp69epmzwskJpWVlfELDgDQ5cSlO3orBcwOQ8o1KlXoWBV9oXs48dzFyYbi+qSQP17fnPp3bTZDZ8A2q4+m1N+md/wn6CRHuU7evVgvvPS8rpi1RKdMX8SMCNAGttSAHHbYYaqsrNS6detCjhcUFGjdunV69913mz3v/fffl9R05gQAgPby+U2VVlRpzz6//vei4ZIhbduxJ/oC8QgLkxvuKhWrQvegtuziFEEhdxMRFoB3dKt6n6bb9/yfCh2r1E/V2qpeKvUP01jHp/oo9ZaQru6bzCxNq52kG+fW6fazDtcvzhga9SYDQGdnSwJywgknaOnSpfr8889DjhcVFemNN97Ql19+qccee0w33HBD8LFXXnlFL7zwQrAfCAAA0Wqp+3lbOoY3K8IC5oadudtd6B4OuzjFRL/MNPnl0DJ/fvBYuG7wgfqeKfW36cF3pedL1+ne8UdFvckA0JnZsgTrzDPPlCQtWrRIPt+Bad8rrrgiuAzrpptuUmFhoS6//HIVFhbq4osvDu6Odf3119sRJgCgEwt0P2/cAyRmReERFjCX+odFV+jekgiToIjHdVGNNypoqRt84Pv7U/6hUY4ybfXujtkmA0BnZUsCcvbZZ+uQQw5R9+7dQ5Zb9erVS//4xz/kdDplmqY+++wzvfDCC/rss8+Cycc111yjCy64wI4wAQCdVGvdz01J//1qmfbu8zc5b+maSi1YsbH1YuMWdotqWMBs7v+nN5o+HWG1kgSF6ziOUI03KmitG7zDkHobO/R89z/qo9Rb9GNHabO/TwAstiQgqamp+u677+TxeHT22WeHPDZhwgS9//77OvPMM4OJiGmaOvzww/XII49o1qxZdoQIAOjEWut+LkmVO/dq5J/eDb5zXVLm0SnTF+myWct067wVumzWstaLjcPsFhUoYH7bX9h6obvfZ/Xv+Ool63NbCsZjvWVuF9Zwo4KIu8HrwJKsE3Z/FPL7BOAAw2yuC2CC7Nu3T9u2bVPPnj2VmZmZ6HBs5/V65Xa7VVNTQ+E9AMTQghUbdeu8FRGNNSRd/6M8Pf5BRZMZk8AtfdgEwu+zCrxrPdLOH6SeB8mXka1S37DIOqE3amIoaX+n8Olt222q2esMaFvHcUiyZsFWLX1TR71zecTnmKZUKZdG7vmbfOrW/p3VkJS4X4teUiUgXR2/0AAQH0vXVOqyWcsiGmtIMowDy6aaezzbnaaP7jgjNJGINnkINDEMl/a0td9GIBmyoeN4p+f3STMKZHo9MppdyNe8bWamflt/rb7I/FHT3xd0WNyvRc+WJVjt9cgjj2jEiBE6/vjjEx0KAKADa637eUOmwicfgceb9PAI0wE92Pzv69daXlYVj/4dydxxvKPZv7TNkGRG9FtkyVKtHkmZoWNqP4h9zxegA0vqBMTj8WjFihVasWJFokMBAHRgDYuKYyXYw6PV5MGUXrpaevp86eVrrc8zCkI7krelfwcSY399j9G4G3wLAhMeU1OeUclXdE0HApI6AQEAIFYCRcVZPbvH5HrBHh6tJg+SzEa7IQVmRgJJCP07OoZAN/hJC6UevSJajOUwpFyjUs5PHqdrOrAfCQgAoMsoKsjRsrvOVFbPlLBjDDXt9dD48ZAeHu1KChotq6J/R8fhcEqHniqNe1hGGypC7kmZq49Sb9Hw2g/oE4IujwQEANCldO/m0B9/crRVbN7oscD3143Ja/HxkB4e7U4KGiyron9HxxNYkpXeN+JTslWlR1Jm6GxHqaYVl7McC10WCQgAoMtp2OOhoUCPjrvOzW/x8ZAtVVtNHlqxYwv9Ozqq/PHSL1dK6X0iXo4lSfekPKMtNbsoTEeX1S3RAQAAkAhFBTkam5+t0ooqba2ta9Kjo7XHgwLJw/xJ0v59ktokMIMSaGLY7Fa+9O9IWt26S+fPkDF/kkyp1UVZDkPKVaUKHav079WHt/y7BXRSJCAAgC7L6TA0akifdj8eFC55MBxNC9APPGglFw2XVeWPl4adR/+OjiawHKvxf/8W9FO1/vav1cHvc9xpmjoun4aF6BJIQAAAiIXmkoedldJLk/cPaPjOeAvLqgL9O9CxBP77f/yo9PbdrQ7va1TLIb/8+1fDb66p05S5y+maji6BGhAAAGKlcfO/ggusmZHGvSNcuW3vbI7k53BKJ90ouXJbbVgY2BXrbEeppAPpKcXp6AqYAQEAIJ5YVtW1BLqmz58ks9FGvaYpGQ3ykmxVaWbKDE2pv01v+wtlSvLU1Km0oiqypX9ABxXzBMTp5A8qAAAhWFbVtYSpCTEa719gSH7T6pT+zp4TgsuxttbW2RktYLuYL8EyTTP4OdoPAACADinQNf3sP7Y4LNApvdCxKnisX2ZaC2cAHV9clmDFKnkgCQEAAB2Wwxlxo8p+qpYhq9dMYV5WfOMCEizmCYjfH267QQAAgC4mwgRkq3rJlPS78/LpB4JOj12wAAAA4mXwaGvXszC7YvlNaZvpUn9VaaSjXPe9/pVKyjz2xgjYjAQEAAAgXvbvimUJTUJM0zrS1/Dqoe6PaF73/9GLe27Qa889ShKCTo0EBAAAIJ7274rVpB+MQttTStbWvI+kzNDi156kHwg6LRIQAACAeAvsinXV6/rm5L9qm5kpU9YuWA0Fvr+l/gmVrvnB9jABO5CAAAAA2GF/P5itylJfo7ZJ8hEctn9rXt/af9sbH2ATEhAAAAAb9TOqYzoO6GhIQAAAAGw05NAhMR0HdDQkIAAAADZyHnKydvfIVrgac78p7e6RLechJ9sbGGATEhAAAAA7OZzqMe4vMgxDjds3+yUZhqEe4/5i1YwAnRAJCAAAgN3yx8u4ZI4MV27IYcM1QMYlc6xds4BOqluiAwAAAOiS8sfLGHaetG6JtGOLlNFfxuDRzHyg0yMBAQAASJT9W/MCXQkJCAAAQDLw+0JmQ8RsCDopEhAAAIBEK18oldwheTcdOObKlYqmUw+CTocidAAAABv4/KaWrqnUghUbtXRNpXyBfXjLF0rzJ4UmH5Lk9VjHyxfaHywQR8yAAAAAxFlJmUfTisvlqakLHstxp2nq+Ueo6J07JDXXFMSUZEgld0rDzmM5FjoNZkAAAADiqKTMoylzl4ckH5K0uaZOs59/vunMRwhT8m60akOAToIEBAAAIE58flPTisvDzm/0U3VkF9qxJYZRAYlFAgIAABAnpRVVTWY+GtqqXpFdKKN/bAICkgAJCAAAQJxsrQ2ffEhSqX+YNplZMmWEGWFIrgHWlrxAJ0ECAgAAECf9MtNafNwvh6bVT9r/XeMkZP/3RfdTgI5OhQQEAAAgTgrzspTjTmtpfkNfZv5I/oufllw5oQ+6cqVL5tAHBJ0O2/ACAADEidNhaOq4fE2Zu1yGQjfbDSQlU8fly3lUjnTk+XRCR5fADAgAAEAcFRXkaObEEcp2hy7HynanaebEESoq2D/z4XBKeWOkoy+yPpN8oJNiBgQAACDOigpyNDY/W6UVVdpaW6d+mWkqzMuS0xFucRbQeZGAAAAA2MDpMDRqSJ9EhwEkHEuwAAAAANiGBAQAAACAbUhAAAAAANiGBAQAAACAbUhAAAAAANiGBAQAAACAbdiGFwAAwAY+v9l6HxC/j27o6PRIQAAAAOKspMyjacXl8tTUBY/luNM0dVz+gU7o5Qulkjsk76YDJ7pypaLpUv54myMG4oclWAAAAHFUUubRlLnLQ5IPSdpcU6cpc5erpMxjJR/zJ4UmH5Lk9VjHyxfaGDEQXyQgAAAAceLzm5pWXC6zmccCx/6w8CuZJXc0ONLMqJI7reVZQCdAAgIAABAnpRVVTWY+GjIlDdrxhYzGMx+NR3k3WrUhQCdAAgIAABAnW2vDJx8B/VQd2cV2bIkuGCBJkIAAAADESb/MtFbHbFWvyC6W0T+6YIAkQQICAAAQJ4V5Wcpxp8kI87ghaX3GcJmu3P3fhRnlGmBtyQt0AiQgAAAAceJ0GJo6Ll9S0/Qi8P3vxh8to2h6o6ONRhXdTz8QdBokIAAAAHFUVJCjmRNHKNsduhwr252mmRNHWH1A8sdLl8yRXDmhJ7tyreP0AUEnYpim2dyeb0gAr9crt9utmpoauVyuRIcDAABiiE7onQP3a9GjEzoAAIANnA5Do4b0aXmQwynljbEnICBBWIIFAAAAwDYkIAAAAABsQwICAAAAwDYkIAAAAABsQwICAAAAwDYkIAAAAABsQwICAAAAwDYkIO20bt06/epXv9KwYcPUs2dPZWVl6cQTT9Rf/vIX7dq1K9HhAQAAAEmJTujtUFxcrIkTJ8rr9Tb7+OGHH6433nhDQ4cObdN16awJAACQ3Lhfix4zIG30+eef62c/+5m8Xq8yMjJ03333acmSJXrvvfd03XXXSZK++eYbnXfeeaqtrU1wtAAAoCPy+U0tXVOpBSs2aumaSvn8vF+MzqNbogPoaG699Vbt3r1b3bp10z//+U+NGjUq+NgZZ5yhww47TL/5zW/0zTff6IEHHtC9996buGABAECHU1Lm0bTicnlq6oLHctxpmnr+ESrKqJB2bJEy+kuDR0sOZwIjBdqHJVhtUFpaqpNOOkmSdMMNN+jRRx9tMsbv96ugoEArV65Ur169tHXrVqWkpER0fab0AADo2krKPJoyd7ka35wVOUp1T8oc5RpVBw66cqWi6VL+eFtj7Oq4X4seS7Da4LXXXgt+ffXVVzc7xuFwaNKkSZKk6upq/etf/7IjNAAA0MH5/KamFZc3ST7OdpTqkZQZylZV6ANejzR/klS+0LYYgVggAWmDjz76SJLUs2dPHX/88WHHnXrqqcGv//3vf8c9LgAA0PGVVlSFLLuSJIf8mpoyx/raaHzG/lSl5E7J74t/gECMkIC0wcqVKyVJQ4cOVbdu4ctnhg0b1uQcAACAlmytrWtyrNCxSrlGVTPJR4ApeTdK65bENTYglkhAIlRXV6dt27ZJkgYOHNji2N69e6tnz56SpPXr18c9NgAA0PH1y0xrekzVkZ28Y0tsgwHiiF2wItRwS92MjIxWx/fs2VM7d+7Ujh07wo7Zs2eP9uzZE/w+XF8RAADQ+RXmZSnHnabNNXXBOpCt6hXZyRn94xUWEHPMgESoru7AtGj37t1bHZ+amipJ2r17d9gxf/rTn+R2u4MfgwYNij5QAADQITkdhqaOy5ckBVZclfqHaZOZpfBtQAzJNcDakhfoIEhAIpSWdmBadO/eva2OD8xs9OjRI+yYu+66SzU1NcEPlmsBANC1FRXkaObEEcp2W/cdfjk0rX6SDEMy1bgQZP/3RffTDwQdCkuwIpSZmRn8uqVlVQE7d+6U1PJyrdTU1OBMCQAAgGQlIWPzs1VaUaWttXXqlzlS/roRcr59p+TddGCgK9dKPugDgg6GBCRCaWlp6tOnjyorK7Vhw4YWx27fvj2YgLCsCgAAtJXTYWjUkD4NjkyQjjzf2u2KTujo4EhA2iA/P18ffvihVq9erX379oXdinfVqlXBr4888ki7wgMAAJ2ZwynljUl0FEDUqAFpg1NOOUWStbzqs88+Czvu/fffD3598sknxz0uAAAAoKMgAWmDCy64IPj1U0891ewYv9+vOXOsjqW9evXS6aefbkdoAAAAQIdAAtIGhYWFGjPGmvp84okntHTp0iZjHnjggWD381tvvVUpKSm2xggAAAAkM8M0zbA7S6Opzz//XCeffLJ2796tjIwM3X333Tr99NO1e/duzZs3T48//rgk6fDDD9enn34asntWa7xer9xut2pqauRyueL1EgAAANBO3K9FjwSkHYqLizVx4sSwncsPP/xwvfHGGxo6dGibrssvNAAAQHLjfi167ILVDuPGjdOXX36phx56SG+88YY2bNig7t27a+jQobr44ov1i1/8Qunp6YkOEwAAdFE+v9mgj0iaCvOy5HQ0bmQIJAYzIEmEjBoAAESrpMyjacXl8tTUBY/luNM0dVy+igpyEhhZ58D9WvQoQgcAAOgkSso8mjJ3eUjyIUmba+o0Ze5ylZR5EhQZcAAJCAAAQCfg85uaVlyu5pa2BI5NKy6Xz8/iFyQWCQgAAEAnUFpR1WTmoyFTkqemTqUVVfYFBTSDBAQAAKAT2FobPvlozzggXkhAAAAAOoF+mWkxHQfECwkIAABAJ1CYl6Ucd5rCbbZryNoNqzAvy86wgCZIQAAAADoBp8PQ1HH51tfya6SjXOMdSzTSUS6n/JKkqePy6QeChKMRIQAAQCdRVJCjV07fptyl09RflcHjW9RHm0ZN1XH0AUESIAEBAADoLMoX6rilt8pstBlvP1Wp/9JbpUG9pfzxCQoOsLAECwAAoDPw+6SSOySZTepAjEBCUnKnNQ5IIBIQAACAzmDdEsm7qYUBpuTdaI0DEogEBAAAoDPYsSW244A4IQEBAADoDDL6x3YcECckIAAAAJ3B4NGSK1dqqROIa4A1DkggEhAAAIDOwOGUiqbv/6ZpGbokqeh+axyQQCQgAAAAnUX+eOmSOZKrUb8PV651nC14kQToAwIAANCZ5I+Xhp1n7Xa1Y4tV8zF4NDMfSBokIAAAAJ2NwynljUl0FECzWIIFAAAAwDYkIAAAAABsQwICAAAAwDYkIAAAAABsQwICAAAAwDYkIAAAAABswza8AAAAiIjPb6q0okpba+vULzNNhXlZcjoad10HWkYCAgAAgFaVlHk0rbhcnpq64LEcd5qmjstXUUFOC2cCoViCBQAAgBaVlHk0Ze7ykORDkjbX1GnK3OUqKfMkKDJ0RCQgAAAACMvnNzWtuFxmM48Fjk0rLpfP39wIoCkSEAAAgK7M75MqPpS+esn67PeFPFxaUdVk5qMhU5Knpk6lFVVxDhSdBTUgAAAAXVX5QqnkDsm76cAxV65UNF3KHy9J2lobPvloKNJxADMgAPD/27vzuKiq/g/gn2GTdQCBEAERF0BUXFJcCXxcHpRwQcRs0570p5U/K0tbNEXzKct6CqmfoRVZWqhpye/RtF/lkqmoaaKhoqamgCgIsijrnN8f88xtWObOAOMMy+f9evHywj338D3Mudf5zr3nHCKitigjFdj8eM3kAwCKctQ/z0gFANznZGtQdYaWI2ICQkRERNTWqKrVdz7kRnbsehlQVSPUvz28nG2ha7JdBdSzYYX6t783sVKrwwSEiIiIqK25crDunY8aBFCUBVw5CEsLBZZGBwNAnSRE8/3S6GCzrAdSrRI4dDEf23/LwqGL+RwI30JwDAgRERFRW1OS26Bykb28sObR/nXWAelgxnVAuC5Jy8UEhIiIiKitcfRscLnIXl4YHdyhWayErlmXpPb9Ds26JGse7c8kpBljAkJERETU1vgNVc92VZSD+seBKNT7/YbW+KmlhQJDurqZJERd9K1LooB6XZLRwR3MkhyRfhwDQkRERNTWWFiqp9oFoHNkR+RKdblmhuuStHxMQIiIiIjaouDxQNzngLLWo0rKjuqf/2cdkHulsQPIuS5Jy8dHsIiIiIjaquDxQFCUelasklz1mA+/off8zkdTBpBzXZKWj3dAiIiIiNoyC0vAPwzoHav+1wTJx1Mbjtd5jEozgHzX6RzZ47kuScvHBISIiIiITELfAHJAPYBc7nGs5rwuCRmGCQgRERERmYSxBpBr1iXp4FzzMasOzracgrcF4BgQIiIiIjIJYw4gb07rklDDMAEhIiIiIpMw9gDy5rAuCTUcExAiIiIiundU1dIsW6EO98FbaY3sokpdyx+iAweQt3pMQIiIiIjo3shIBXa9BBRlAwAsAfxg1wHPWzyE3arQGkkIB5C3HRyETkRERETGl5EKbH5cSj407O7mYo1NAqY6/lbj5xxA3nbwDggRERERGZeqWn3nQ8eEuwoo8Kb9RkyYOgs3Sis5gLyNYQJCRERERMZ15WCdOx81CSiKsjDE6hzQN8xkYVHzwEewiIiIiMi4SnKNW45aFSYgRERERGRcjp7GLUetChMQIiIiIjIuv6GAsiP+mtuqNgWg9FaXozaHCQgRERERGZeFJRD51n++qZ2E/Of7yJXqctTmMAEhIiIiorpU1cCln4FTX6v/VVU37Pjg8UDc54Cy1rS6yo7qnwePN16s1KJwFiwiIiIiqqnWAoIA1IlD5Fv6Ewetlc/h6AnMOwlcTfvre7+hvPPRxjEBISIiIqK/aBYQrL2GR1GO+udydy/kEpfesfcsZGpZ+AgWEREREanpWUAQALDr5fofx9Kx8rmUuGSkGjtaaqGYgBARERGRmgELCKIoS11OW1MSF2pzmIAQERERkVpjFxBsbOJCbRITECIiIiJSa+wCglz5nBqACQgRERERqTV2AUGufE4NwASEiIiIiNQau4AgVz6nBmACQkRERER/0beAYFBU3QUKufI5NQDXASEiIiKimoLHqxMN7QUF/YYCZ3cA7/fSvUBh3Oc61gFZyZXPSaIQQtQ3XxqZQVFREZydnXH79m0olUpzh0NERET0F10LFGrucGgWKKy9EnorW/mc79eajndAiIiIiEie3nU+FOp1PoKi1MmGf5iJA6SWhGNAiIiIiEge1/kgI2ICQkRERETyuM4HGRETECIiIiKSx3U+yIiYgBARERGRPK7zQUbEBISIiIiI5HGdDzIiJiBEREREpJ++BQq5zgcZiNPwEhEREZFhdC1QyDsf1ABMQIiIiIjIcFzng5qIj2AREREREZHJMAEhIiIiIiKTYQJCREREREQmwwSEiIiIiIhMhgkIERERERGZDBMQIiIiIiIyGSYgRERERERkMkxAiIiIiIjIZJiAEBERERGRyTABISIiIiIik2ECQkREREREJsMEhIiIiIiITIYJCBERERERmQwTECIiIiIiMhkmIEREREREZDJMQIiIiIiIyGSYgBARERERkckwASEiIiIiIpNhAkJERERERCbDBISIiIiIiEzGytwB0F+EEACAoqIiM0dCRERERPXRvE/TvG+jhmMC0owUFxcDAHx9fc0cCRERERHJKS4uhrOzs7nDaJEUgulbs6FSqZCdnQ0nJycoFApzh9MsFBUVwdfXF1evXoVSqTR3ONQMsY+QPuwjpA/7CMmp3T+EECguLkbHjh1hYcHRDI3BOyDNiIWFBXx8fMwdRrOkVCr5nwLJYh8hfdhHSB/2EZKj3T9456NpmLYREREREZHJMAEhIiIiIiKTYQJCzVq7du2wdOlStGvXztyhUDPFPkL6sI+QPuwjJIf9w/g4CJ2IiIiIiEyGd0CIiIiIiMhkmIAQEREREZHJMAEhIiIiIiKTYQJCREREREQmwwSEmqXLly8jMTERkydPRvfu3WFvbw9bW1v4+Phg4sSJSElJQVVVlcH1nT59GrNnz0bXrl1hZ2cHDw8PhIWF4aOPPmpQPdR8lJSUYP/+/XjnnXcQFxcHf39/KBQKKBQKdO7c2aA6Ll++LB2j72vGjBn3tD1kfMboI9p4HWl7IiIiDL5GUOtz5coVvPDCCwgKCoKDgwPat2+PgQMHYtWqVbhz5465w2vZBFEzs3jxYqFQKAQA2a+BAweKK1eu6K1v7dq1wsbGRmc9oaGh4ubNmyZoGRlTRESEztfUz8/PoDouXbqkt59pvqZPn35P20PGZ4w+osHrSNsUHh5u8DWCWpfU1FShVCp1vt4BAQHi/Pnz5g6zxbIyViJDZCw5OTkQQsDBwQGTJk3CyJEj0b17d9ja2uLMmTNYvXo1jh49iqNHj2LUqFE4fvw4HB0d661r586dmDNnDlQqFTw9PbFo0SIMGjQIt27dwrp167Bt2zYcOXIEkyZNwt69e2FpaWni1lJjCa0ZxNu3b48BAwbg4MGDKCkpaVR9K1aswIQJE3Tud3V1bVS9ZD7G6iO8jtCAAQOQnJxs7jDIRE6cOIGpU6fi7t27cHR0xCuvvIIRI0bg7t27SElJwbp165CZmYmoqCgcO3YMTk5O5g655TFzAkRUx8KFC8Vbb70lioqK6t1fVVUl4uLipE8hli1bVm+5iooK0aVLFwFAKJVKceHChTplnn76aame5ORkYzaD7rGkpCTx5Zdf1vgEys/Pr9F3QPj6tz7G6CO8jrRtmjsg4eHh5g6FTCgsLEwAEFZWVuLgwYN19r/99tvSOb906VLTB9gKMAGhFikvL096HKJ37971ltm0aZN0gXjzzTfrLVNaWipcXV0FABEcHHwvQyYTYAJC+jS0j/A60rYxAWl70tLSpHN+9uzZ9Zaprq4WPXr0EACEi4uLqKioMHGULR8HoVOL5ObmhpCQEADAxYsX6y3z7bffStu6BhDb29sjLi4OAJCRkYHMzEyjxklELRuvI0Rti/Y5/8QTT9RbxsLCAo8//jgAoLCwEHv27DFFaK0KExBqscrLywFA5/PWBw4cAAAEBgaiQ4cOOusJDw+Xtn/55RcjRkhELR2vI0Rti+acd3BwwP3336+zHM/5pmECQi3SjRs3cObMGQBAjx496uwvKSnB1atXAQBBQUGydWnv19RJbU9iYiK6desGW1tbODs7o2fPnpgzZw6OHz9u7tDITHgdIY2zZ89i0KBBcHFxkaaEnzBhAj7//HNUVlaaOzwyIs35261bN1hZ6Z6ried80zABoRZp1apV0rz7mkcftF27dk3a9vHxka3L19dX2ta82aC25/jx47h48SLKy8tRVFSEjIwMJCUl4f7778ecOXOkO27UdvA6Qhq5ubk4cuQIbt++jfLycmRlZSE1NRXTp09H3759+Qa0lSgrK0NeXh4A/ee8q6srHBwcAPCcbwxOw0stTlpaGt5//30A6gvEU089VadMcXGxtK1ril4NzQUEQKOncKWWy8XFBZMmTUJERIQ03XNOTg6+//57fPLJJygpKUFSUhKKi4uxceNGc4dLJsTrCFlYWGDkyJEYN24c+vTpAzc3NxQXF+P48eNISkrCmTNnkJGRgREjRuDIkSPo1KmTuUOmJmjIOQ+oz/vS0lKe843ABIRalNzcXMTGxqKqqgoKhQLr16+Hvb19nXJlZWXSto2NjWyd7dq1k7bv3r1rvGCp2evYsSOysrLq9KF+/fph3LhxeOaZZzBq1Cj8+eef+PLLLzF16lSMHz/eTNGSqfE6Qtu2bYOLi0udn4eFheHpp5/GrFmzsH79euTm5uK5557Dtm3bTB8kGU1Dznngr/Oe53zD8REsajSFQtHkr88++8zg31dcXIyoqCjpsYiVK1fib3/7W71lbW1tpe2KigrZerUfrbGzszM4HtLP1H2koWxsbOpNYDW6d++ODRs2SN8nJibes1jaqubcR3gdaRnuZR+qL/nQsLa2xscff4zAwEAAwDfffIOsrKx70EIylYac88Bf5z3P+YZjAkItQllZGSZMmIBff/0VAPDiiy9i4cKFOstrr0qq79ZoaWmptG3ILVdqW8LCwhAcHAxAPTuKSqUyc0RkKryOkD5WVlZ48sknpe/37dtnxmioqRpyzgN/nfc85xuOj2BRoxlj0J2Xl5feMlVVVYiLi5Pm2Z45cyZWrVole4y3t7e0rT2QtD7ag8e0B5JS05mqj9xrwcHByMjIQFlZGfLz8+Hh4WHukFqN5txHeB1pGczdhzQfUADgHZAWztbWFm5ubsjPz9d7zhcUFEgJCM/5hmMCQo2mb1pKY1CpVHjsscfwv//7vwCAqVOnIikpSe9xTk5O8PX1xdWrV3H27FnZstr765vSlxrPFH3EFBQKhblDaLWacx/hdaRlMHcf4vWhdQkODsbPP/+MCxcuoKqqSudUvDznm4aPYFGzNnv2bKSkpAAAoqOjsWHDBlhYGNZthw8fDgA4d+4crl+/rrOc9i3zYcOGNSFaaq0yMjIAqAccurm5mTkaMiVeR0gfzfUBUE9sQS2b5pwvLS2VHvuuD8/5pmECQs3W/Pnz8fHHHwMARo4ciS1btsguClTbxIkTpW1dAwzv3LmDzZs3A1B/6hEQENDoeKl1+uWXX/D7778DUP/HZGgCTK0DryMkp6qqCp9++qn0/QMPPGDGaMgYtM/55OTkesuoVCp8/vnnANQTFYwYMcIUobUq/J+UmqX4+Hi89957AIChQ4di+/btNaa5NMSkSZPQpUsXAMCbb76Jixcv1imzYMECFBQUSNvUtnz77bcQQujcf+HCBTz88MPS908//bQpwqJmhNeRtmvPnj0oLCzUub+yshIzZ86UxqBER0dzLEArEBoairCwMADAJ598gkOHDtUp8+6770qv+7PPPgtra2uTxtgaKITc/75EZpCYmIh58+YBUA8C3bRpE5ydnWWPCQwMrPcCsHPnTkRHR0OlUsHT0xOLFy9GaGgoCgoKsG7dOmzduhWA+pPtvXv3wtLS0vgNonviwoULOHDgQI2fvfjii8jPz4ebmxveeeedGvsiIyPRoUOHGj9TKBTo1q0bYmJiEBoaCh8fH7Rr1w45OTnYvXu3tBAhAMTFxWHTpk33tlFkVMboIwCvI23VjBkzsHXrVowfPx4REREIDAyEUqlESUkJfv31V6xdu1Z6/Oq+++7D4cOH4e/vb+aoyRhOnDiBYcOG4e7du3B0dMSrr76KESNG4O7du0hJScHatWsBAAEBATh27FiN2bPIQIKomQkPDxcAGvR16dIlnfWtXbtW2NjY6Dw2NDRU3Lx503QNJKNITk5uUB/Zs2dPnToMPfapp54SZWVlpm8kNYkx+ogGryNtz/Tp0w3qN7179xa///67ucMlI0tNTRVKpVLn6x4QECDOnz9v7jBbLM6CRa3erFmzMGTIEKxevRo//vgjsrOz4eDggB49euCRRx7BzJkzGzS2hFqP1NRUHDp0CGlpabhy5Qry8vJQWloKpVKJLl26ICwsDP/4xz/Qq1cvc4dKZsbrSNvz0ksvoW/fvjh06BAyMjJw8+ZN3Lp1C+3atYOnpycGDBiA2NhYTJo0iXe9WqHo6Gikp6cjISEBO3bswLVr12BjY4Nu3bphypQpmDt3ruxCtiSPj2AREREREZHJcBA6ERERERGZDBMQIiIiIiIyGSYgRERERERkMkxAiIiIiIjIZJiAEBERERGRyTABISIiIiIik2ECQkREREREJsMEhIiIiIiITIYJCBERERERmQwTECIiIiIiMhkmIEREBoqPj4dCoYBCocDevXvNHU6TRERESG1pjgoKCuDh4QGFQoHExMQm1XX58mWprTNmzDBOgGQyCxcuhEKhQGBgICoqKswdDhEZARMQIgIA6Q1ac31D2lLEx8cjPj4en332mblDadEWLVqEvLw8dOvWDXPmzDF3OGRGr7zyClxdXZGZmYl//etf5g6HiIyACQgRkREtW7YMy5YtYwLSBJmZmVi3bh0A9ZtPa2trM0dE5uTq6oq5c+cCAFauXIlbt26ZOSIiaiomIEREBoqPj4cQAkIIREREmDucVis+Ph5VVVXo2LEjHnvsMXOHQ83As88+C1tbW9y+fRurVq0ydzhE1ERMQIiIqNm4fPkyNm/eDAB48sknefeDAABubm6IjY0FAHz00UcoKSkxc0RE1BRMQIiIqNlISkpCdXU1AGD69OlmjoaaE01/KCwsxMaNG80cDRE1BRMQIjKq6upqrF+/HuPHj4ePjw9sbW3h6uqKkJAQzJ8/H5mZmbLH7927VxoMHx8fDwDIzs7Gq6++ip49e8LR0RFKpRL9+vXD8uXLUVxcbFBcV65cwbx58xAQEAA7Ozu4u7tj8ODBSEhIQFlZGQCgc+fOUCgU6Ny5c711yM2CVXsA/759+2oM7Nd8aY8Nqa+tcjRl9T3+VVBQgNdeew29e/eGo6MjXFxc0LdvXyxfvhz5+fl6f09t169fx/LlyzF8+HB06NABNjY2cHd3x9ChQ7FixQoUFBQ0uM76qFQqfPHFFwCAPn36oGvXrgYdl5aWhkceeQS+vr6wtbWFt7c3IiMjpTspDbV//37813/9F3r06AEXFxfY2trC19cXkydPxtatWyGEMKieAwcOYNq0adJ54O3tjXHjxmHr1q0ADJudq3afLC8vx4cffoiIiAh4eXnB0tJSZ381Vjuqq6uxceNGTJkyBZ07d4aDgwMcHR0RGBiIWbNm4dixY3rrKC8vR1JSEsaOHQtvb2/Y2trC3t4enTp1Qv/+/fHoo4/is88+k72zERERgfbt2wMA1q9fb1DsRNRMCSIiIQQA6auxLly4IHr27FmjrtpfVlZW4vXXX9dZx549e6SyS5cuFbt37xbt27fXWV9AQIC4du2abFxbtmwRDg4OOuvo06ePuHbtmvDz8xMAhJ+fX731LF26VDpmz549NfbJtVn7Kzk5WWdb9dGUDQ8P11nmyJEjwtPTU+fv9/X1FSdPnhTh4eEGvd4JCQnC3t5etk2urq5i165deuPX5+DBg1Kd8+bNM+iYpUuXCgsLC52xxcbGiszMTOn76dOn66yroKBAPPjgg3pfwwceeEDcvHlTNq4FCxYIhUKhs46HHnpInD9/Xm9c2n3y0qVLolevXnXqqt1fjdmOU6dOiaCgIL11zZ07V1RVVdVbxx9//CECAgIMOj+2bNkiG8/48eMFAKFQKER2drZsWSJqvqzqZCRERI2QnZ2NYcOGITc3FwDg5+eHGTNmICgoCCUlJdi9eze2bt2KqqoqvPbaaygvL8frr78uW+dvv/2Gd955B5WVlZgxYwaGDx8OJycnnDt3Dv/zP/+D69evIzMzE0888QS+//77euvYu3cvpk2bhqqqKgBAaGgopk2bho4dOyInJwcpKSk4fPgwpk6dKpVpjG+++QYAMGnSJABAz549sWLFijrl+vfv3+jfoc+lS5cwZswYFBYWAgACAwMxY8YM+Pv7Iy8vD9u2bcNPP/2EiRMnwtnZWW99ixcvxj//+U8AgIODA2JjYzFkyBC4ubnh1q1b+PHHH7F161YUFBTgwQcfxE8//YSwsLBGx797925pe/DgwXrLv/fee1i2bJn0/aRJkzB27Fg4OTnhzJkz+PTTT/H1119DpVLprauoqAjDhg1DRkYGAKB79+6YMmUKevToARsbG/zxxx/46quvkJ6ejv3792PUqFE4fPgwbG1t69S1YsUKaaC0QqFATEwMIiMj4ejoiMzMTHz66adISUkxKC6N8vJyxMTE4PTp0xg8eDBiY2Ph4+ODW7du4ffff78n7Thx4gTCw8Olu4xhYWGIioqCn58fVCoV0tPT8dlnnyE3NxcffPABKioqkJSUVKee2NhY6c5nUFAQpkyZAj8/Pzg7O6OoqAjnzp3D/v37ceTIEb1/h8GDByM1NRVCCOzevZvruhC1VObOgIioeUAT74CMGzdOOn7cuHGitLS0TpmdO3eKdu3aCQDCwsJCHDp0qE4Z7bsCAETHjh3F6dOn65TLyckRPj4+Urlff/21TpnKykrRtWtXqcxLL70kVCpVjTIqlUosXrxY9hNlDbk7IBqa/XJ3KeprqzHugIwZM0YqExcXJ8rLy+uU+de//lXnU+f6fPfdd9In+IMHD9Z5l+nAgQPCyclJABCdO3cWlZWVetuhS2RkpBTTxYsXZctevHhR2NraCgDC0tKy3k/Ob9++LcLCwmq0VdedhoceekgqEx8fX++n+dXV1eKFF16Qyi1atKhOmXPnzglra2sBQFhbW4vt27fXKVNaWipGjx5tUFyaOyCar5UrV8r+XYzVjtLSUtGlSxcBQNjb24vU1NR6f19hYaEYMWKEVNf//d//1dh/9OhRad+UKVNEdXW1ztgvX74sLl26JNs+7XNm9uzZsmWJqPliAkJEQoimJSDp6enSsV5eXuL27ds6y65cuVIqO3HixDr7aycgP/30k8661qxZI5VbsWJFnf1bt26V9g8dOrRO8qFt+PDhLToBOXnypLS/U6dO4s6dOzrriY2N1ft69+/fXwAQHh4eIj8/XzautWvXSnWlpKTobYcu3t7eAoCwsbHRW/b555+XfueLL76os1x2draUIOl6o6/9t3vyySf1/u5hw4YJAMLZ2VmUlZXV2Pff//3fUl2vvPKKzjpu3rwpXFxcGpSATJgwQTYuY7YjISFBquuLL76QrScvL08olUoBQERGRtbY99VXX0n17NixQ29M+ly/fl2qb8iQIU2uj4jMg4PQiajJtm3bJm3PmTMHSqVSZ9m5c+fCyckJALBz505pAHh9+vbtixEjRujcP3r0aGn79OnTdfZ/++230vZzzz0nu8r7888/r3NfS6D9Gjz11FOws7PTWXbBggWydZ06dQrHjx8HAMycOVMa+KvLww8/DCsr9RO92o9RNURFRQWys7MBqBee00fTXgsLC9nXzsvLC48++qhsXdoDmhcuXKj3dz/++OMAgNu3byMtLa3GPk2fs7CwwLx583TW4e7u3uA1TuTqA4zbDk1d3t7eePjhh2XrcXNzQ1RUFAD1I4/l5eXSPgcHB2n7119/1RuTPtp98fLly02uj4jMg2NAiKjJtN+8jBkzRrasg4MDhg8fju+++w4VFRU4ceIEhgwZUm9ZXT/X8PHxkbbrm4np6NGj0rZcImPI/uZO+/n5kSNHypYdOHAgnJycdM4gtn//fmm7urq6RiKni6OjIwoLC6WxBw1VWFgozcrk5uYmW/bGjRu4cuUKAPWYgo4dO8qWHzlyJNasWaNzv6a9tra2yMjI0NuGrKwsaTsjIwMPPPAAACA3NxdXr14FAPTo0QMdOnSQrWfEiBFITEyULaNhaWmJoUOHypYxVjuKiorw22+/AVAncKmpqXrj0yQdZWVluHTpEoKCggAAw4YNg729Pe7cuSPNwjZ9+nT07dtX9gMBXaytraW+yxXRiVouJiBE1GQ5OTnSdkBAgN7yAQEB+O677+ocW5u7u7tsPe3atZO267uTovlEXalU6q3L1dUVLi4u0gDulkbTVgDo1q2bbFmFQoGuXbtKbzJr0/5k+e23325QHI19U6j9qbnmDpkuDWmrIWU07S0rK5MmETCUdnu14zJkCuEuXboY/Hvc3NzqHSiuzVjtuHr1qjRA/tixY02qq3379khISMDs2bNRVVWFhIQEJCQkwM3NDUOGDMHw4cMxZswY9OvXz+D6lUoliouLUV5eDiFEoxIZIjIvPoJFRE2m/Um69iMXujg6OtZ7bG0WFk27RJWWlgIA7O3tDSpvSOzNlfb6CYa0V66tTUnCKioqGnWcdjJZVFQkW9aYbQWM115NfzNWXNrkHqnTMFY7mpqE1+4DM2fOxL59+zBmzBjpnM7Pz8e///1vvPzyy+jfvz9CQkKkDyX0uX37NgB1n2HyQdQy8Q4IETWZ9ifWpaWlNd5M1kf7DaS+T7ubwsHBAUVFRbhz545B5bXfQDY3mtXBddFO6u7cuaP3NZBrq3ZdqampiI6ONjDKxnN1dYWFhQVUKpXeuyi126qPvtdV8/hY+/btG7VQo4Z2QmGMuBrKWO3Q/vvGxMRICyc2xfDhw7F7924UFBTgwIEDOHToEH7++WccPnwYVVVVOHXqFMaNG4fk5GTZqXUrKiqk64e+sUlE1HzxDggRNZmXl5e0ff78eb3ltVdD1/f8flNo6i4qKkJeXp5s2YKCApM/fqWdJOi7c6Avfm9vb2n7woULsmWFEPjjjz907tceW6MZ03CvWVtbS23Ql4Bo9xl9bTWkjKa9hYWFsitx66Md18WLF/WWl3sNGsNY7dDuS8Z+/V1dXREdHY033ngDP//8M7KzszF37lxp/wsvvIDKykqdx2v3DV0rwBNR88cEhIiabNCgQdK2rgUBNe7cuYMDBw4AAGxsbBr07HdDDRw4UNres2ePbFl9+w2leSREM6BajvZsT9oDgutz8OBB2f2hoaHS9k8//SRb9ujRo7KPOYWHh0vbhj4WYwy9e/cGAFRWVsq+gb/vvvukN59nz56tMfaiPj/++KPsfk17VSpVo2fxAgBPT0/4+voCAM6cOYPr16/LljdWn9MwVjvc3d3Rs2dPAMDx48elxUXvBQ8PDyQmJqJPnz4AUGdhxdq0B9ZrjiGilocJCBE12eTJk6XtNWvWyL65/fDDD6VxH1FRUXofFWqKCRMmSNvvv/++bFLw/vvvG+V3ah5fMeTxmq5du0rt37Nnj86VsYUQeuPTHii8Zs0a2emN3333Xdm67r//fvTq1QsAsGPHDvzyyy+y5Y1Fe/Xz2tPC1qZpr0qlQkJCgs5yubm52Lhxo2xdmuloAWD58uWyfzt9NH1OpVJh9erVOsvl5eXhiy++aPTvqY8x2zF9+nQA6kf/lixZ0uTY9PH395e2q6qqdJY7fPiwtK3dX4iohTHnIiRE1HygiSuhR0VFScdHRUXVuxL6rl27pNWrLSwsxOHDh+uUMebifOZYCT0kJEQAEA4ODrKLAWpo/93efvvtOvurq6trLLqnq61C1FwJfdq0aaKioqJOmdWrV9eoS9fr/e9//1va7+7uXmeF69qysrLE0qVLxcmTJ/W2WZcjR45Iv3PevHmyZbVXQreyshLbtm2rU6aoqEiEh4cbtOL4lClTpDJjxowRN27c0Pm7VSqVOHDggHjhhRfq7Dt79uw9WQldV5+8V+0oLS0VnTt3lupauHBhvf1Jo7y8XGzatEl88MEHNX6+YcMG8fHHH4uSkhKdx547d05aLNLW1lYUFRXpLBsdHS0ACIVCIbKzs3WWI6LmjYPQiaiOxYsXG1TOy8sLzzzzDABg7dq16N+/P3Jzc7Fjxw707NkTTzzxBAIDA1FSUoLvv/8eW7Zske5CLFq0qMajW/eClZUVPv74Y4wePRpVVVV46623sHfvXkybNg1eXl7IycnBpk2bcOjQIQwdOhRXrlxBVlZWk2bfGjVqFNLT01FaWoro6Gg8/vjj8PDwkB7N6t27d41n7BcsWICdO3dCCIGFCxciLS0NUVFRcHBwwMWLF/Hll1/i9OnTeOSRR/R+kv/RRx+hf//+KCwsxFdffYUTJ05gxowZ8Pf3R35+PrZu3Yoff/wR/v7+cHZ21jkNL6C+O7V8+XIsWbIEeXl5GD16NMLCwhAZGYnOnTvD2toahYWFOHfuHA4ePIjDhw9DCIFRo0Y1+m83YMAAdOrUCX/++afex8i6dOmCN954A/Pnz0dVVRViYmIQExODsWPHwsnJCWfOnMGnn36Kq1evIiYmpsZCjfX55JNPkJmZiZMnT+L7779H586dMXnyZAwePBgeHh6orKxEbm4u0tPT8cMPP+DatWvo2rUr3nnnnRr1BAYGYsmSJXjttddQWVmJiRMnIiYmBpGRkXBycsK5c+eQnJyMy5cvIy4uDps3bwbQ9BnfjN0Oe3t7pKam4oEHHkBhYSHefvttbNiwAbGxsejTpw+USiXu3LmDq1ev4vjx4/jhhx9QVFSEJ598skY958+fx7JlyzBv3jyMGjUKAwcORKdOnWBnZ4ebN2/iyJEj+Prrr6U7hvPmzdM5MUV1dbX0KOKgQYNqjD0johbGzAkQETUTqPWpuCFfffr0qVHH+fPnRXBwsOwxVlZWYvny5TrjMOYdEI3NmzcLe3t72XZcu3ZNeHt7CwAiJCSk3noMuQOSlZUlPD09df6u5OTkOse8+eabsn+zyZMni7KyMoPampaWJu677z6ddfn6+oqTJ0/WuDMgZ/369cLV1dWg/uDk5CTS09Nl69Pn1Vdfleo7ceKE3vJLliwRCoVCZ0xTpkwRmZmZeu80CCFEcXGxeOyxx2Tr0/6Sex1efPFF2XoeeughcebMGb13fBp6B8TY7bhw4YIYNGiQQfUoFAqxZMmSGsfHx8cbfOwzzzwjqqqqdMbyww8/SOXXrFlj8N+DiJofJiBEJIQwTgIihPqxp+TkZPHggw+Kjh07ChsbG+Hs7Cx69eolnnvuOXHu3DnZOO5FAiKEEJcuXRJz584V3bp1E7a2tqJ9+/Zi0KBB4r333hN3794VKpVK2NnZCQAiIiKi3joMSUCEUCch8+fPFyEhIcLJyanGG8H6EhAhhNi3b5+IiYkRHTp0ENbW1sLT01P8/e9/F1u2bGlwW2/duiUWLVokevbsKezt7YVSqRQhISEiPj5e5OXlCSGEwQmIEOpHmRITE8WDDz4ofH19hZ2dnbC2thbu7u4iNDRUzJkzR2zZsqXex+4a6sqVK8LKykoAEM8//7xBxxw6dEhMmzZNeHt7CxsbG+Hl5SX+/ve/i5SUFCGE+rU3JAHR+P3338WCBQtEaGio8PDwEFZWVsLe3l74+fmJMWPGiPj4eJGWlqa3nv3794u4uDjpPPDy8hKRkZHi66+/FkIIcfjwYSmu+Pj4eutoTAJi7HYIIcTu3bvFzJkzRXBwsHBxcRGWlpbCyclJBAUFiZiYGJGQkCD++OOPOsdVVlaKffv2iaVLl4qxY8eKLl26CDs7O2FpaSmcnZ1Fv379xNy5c8Xx48f1xvDYY48JAMLFxUUUFxc3+O9BRM2HQggDpmohImrlTp06hZCQEADAs88+a7RB6dRwjz76KDZu3AhPT0/8+eefsLGxMXdI90RiYiLmzZsHAPjmm28wceJE8wbUjOXn58PHxwdlZWV46aWXsHLlSnOHRERNwFmwiIgAfPDBB9L2iBEjzBgJLVmyBFZWVsjNzcW6devMHc49UVlZiaSkJADqNVCGDRtm5oiat9WrV6OsrAxKpRILFiwwdzhE1ERMQIio1du3b5/s/g8//BBr164FAPj6+iIqKsoUYZEOAQEBmDVrFgDgjTfeaNJ0suZw48aNGutV1FZWVoZ//OMf0noXsbGx8PDwMFV4LU5hYSESExMBAC+//DLc3NzMHBERNRUfwSKiVs/R0REeHh4YO3YsQkJC4O7ujvLycly4cAHffvutNBuUQqHAzp07ERkZad6ACQUFBQgICEBeXh7effddzJ8/39whGezYsWMYOHAgBgwYgJEjRyIwMBBKpRLFxcVIT09HSkoKcnJyAABubm5IT0+vsYo61bRw4UKsWrUK3bt3x+nTp1vtI3lEbQkTECJq9RwdHfUuDOjg4IBPPvkEU6dONVFU1FppEhB9/P39sX37dmkFeCKitoIJCBG1env27MH27dtx5MgR5OTkID8/H2VlZXB1dUVQUBBGjRqFOXPm8DEYMory8nJ888032LVrF06ePImbN28iPz8fAODu7o5+/fohOjoa06dP56f5RNQmMQEhIiIiIiKT4SB0IiIiIiIyGSYgRERERERkMkxAiIiIiIjIZJiAEBERERGRyTABISIiIiIik2ECQkREREREJsMEhIiIiIiITIYJCBERERERmQwTECIiIiIiMhkmIEREREREZDJMQIiIiIiIyGSYgBARERERkckwASEiIiIiIpNhAkJERERERCbDBISIiIiIiEzm/wFeEkxX0H/W4wAAAABJRU5ErkJggg==)"
      ],
      "metadata": {
        "id": "9MBo_nejIFjb"
      }
    },
    {
      "cell_type": "code",
      "source": [
        "#TODO: Add Documentation and clean up the notebook\n",
        "#Write up\n",
        "#References - Moving Pandas, Paper + Github Repo,\n",
        "#Evaluation + Results"
      ],
      "metadata": {
        "id": "q21WPn-pGQaZ"
      },
      "execution_count": null,
      "outputs": []
    }
  ]
}